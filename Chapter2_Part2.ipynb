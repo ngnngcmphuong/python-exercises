{
 "cells": [
  {
   "cell_type": "code",
   "execution_count": 1,
   "id": "35935ade-a37e-4128-8499-a9f262699fb4",
   "metadata": {},
   "outputs": [
    {
     "data": {
      "text/plain": [
       "'\\n Viết một chương trình nhập vào một số nguyên dương. Nếu nó là số chẵn thì in ra chuỗi “Đây là số chẵn”, ngược lại thì in ra chuỗi “Đây là số lẻ”\\n'"
      ]
     },
     "execution_count": 1,
     "metadata": {},
     "output_type": "execute_result"
    }
   ],
   "source": [
    "\"\"\"\n",
    " Viết một chương trình nhập vào một số nguyên dương. Nếu nó là số chẵn thì in ra chuỗi “Đây là số chẵn”, ngược lại thì in ra chuỗi “Đây là số lẻ”\n",
    "\"\"\"\n"
   ]
  },
  {
   "cell_type": "code",
   "execution_count": 7,
   "id": "9d2f01df-e2a9-4b2c-8cc6-fc4b9af2cdce",
   "metadata": {},
   "outputs": [
    {
     "name": "stdin",
     "output_type": "stream",
     "text": [
      "Enter your number: 4\n"
     ]
    },
    {
     "name": "stdout",
     "output_type": "stream",
     "text": [
      "This is even number\n"
     ]
    }
   ],
   "source": [
    "number = int(input(\"Enter your positive number:\"))\n",
    "if (number % 2==0):\n",
    "    print(\"This is even number\")\n",
    "else:\n",
    "    print(\"This is odd number\")"
   ]
  },
  {
   "cell_type": "code",
   "execution_count": 8,
   "id": "98e97b62-9325-4274-80fe-98c384875cbc",
   "metadata": {},
   "outputs": [
    {
     "data": {
      "text/plain": [
       "'\\nBài 2. Viết một chương trình kiểm tra một chuỗi nhập vào từ bàn phím: Chuỗi hoa; Chuỗi thường; Chuỗi chứa ký tự hoa và ký tự thường.\\n\\n'"
      ]
     },
     "execution_count": 8,
     "metadata": {},
     "output_type": "execute_result"
    }
   ],
   "source": [
    "'''\n",
    "Bài 2. Viết một chương trình kiểm tra một chuỗi nhập vào từ bàn phím: Chuỗi hoa; Chuỗi thường; Chuỗi chứa ký tự hoa và ký tự thường.\n",
    "\n",
    "'''"
   ]
  },
  {
   "cell_type": "code",
   "execution_count": 12,
   "id": "2208cd36-d314-4927-9fb5-55bc689b501e",
   "metadata": {},
   "outputs": [
    {
     "name": "stdin",
     "output_type": "stream",
     "text": [
      "Nhập chuỗi: Assss\n"
     ]
    },
    {
     "name": "stdout",
     "output_type": "stream",
     "text": [
      "Chuỗi chứa ký tự hoa và ký tự thường\n"
     ]
    }
   ],
   "source": [
    "s = input(\"Nhập chuỗi:\")\n",
    "if (s.isupper()):\n",
    "    print(\"Chuỗi hoa\")\n",
    "elif (s.islower()):\n",
    "    print(\"Chuỗi thường\")\n",
    "else:\n",
    "    print(\"Chuỗi chứa ký tự hoa và ký tự thường\")"
   ]
  },
  {
   "cell_type": "code",
   "execution_count": 13,
   "id": "2411f1dd-bada-4dc7-90be-d5b14be8685d",
   "metadata": {},
   "outputs": [
    {
     "data": {
      "text/plain": [
       "'\\nBài 3. Viết một chương trình kiểm tra một chuỗi có trong chuỗi khác. Yêu cầu:\\nNhập vào một chuỗi st\\nNhập vào chuỗi cần tìm st_search\\nNếu có thì in ra màn hình “Đã tìm thấy chuỗi cần tìm, tại vị trí: …”. \\n\\n'"
      ]
     },
     "execution_count": 13,
     "metadata": {},
     "output_type": "execute_result"
    }
   ],
   "source": [
    "'''\n",
    "Bài 3. Viết một chương trình kiểm tra một chuỗi có trong chuỗi khác. Yêu cầu:\n",
    "Nhập vào một chuỗi st\n",
    "Nhập vào chuỗi cần tìm st_search\n",
    "Nếu có thì in ra màn hình “Đã tìm thấy chuỗi cần tìm, tại vị trí: …”. \n",
    "\n",
    "'''"
   ]
  },
  {
   "cell_type": "code",
   "execution_count": 16,
   "id": "c60f43e5-e0ba-4f2f-be62-a3df3ed218a8",
   "metadata": {},
   "outputs": [
    {
     "name": "stdin",
     "output_type": "stream",
     "text": [
      "Nhập vào một chuỗi abcdef\n",
      "Nhập vào chuỗi cần tìm abc\n"
     ]
    },
    {
     "name": "stdout",
     "output_type": "stream",
     "text": [
      "Đã tìm thấy chuỗi cần tìm, tại vị trí: 0\n"
     ]
    }
   ],
   "source": [
    "st = input(\"Nhập vào một chuỗi\")\n",
    "st_search = input(\"Nhập vào chuỗi cần tìm\")             \n",
    "if (st.find(st_search))!=-1:\n",
    "    print(f\"Đã tìm thấy chuỗi cần tìm, tại vị trí: {st.find(st_search)}\")\n",
    "else: \n",
    "    print(\"Không tìm thấy\")"
   ]
  },
  {
   "cell_type": "code",
   "execution_count": 17,
   "id": "d7e501cf-58a4-4d4d-bc28-6c8d4b93ce7a",
   "metadata": {},
   "outputs": [
    {
     "data": {
      "text/plain": [
       "'\\nBài 4. Viết chương trình in số lớn nhất của 3 số\\n'"
      ]
     },
     "execution_count": 17,
     "metadata": {},
     "output_type": "execute_result"
    }
   ],
   "source": [
    "\"\"\"\n",
    "Bài 4. Viết chương trình in số lớn nhất của 3 số\n",
    "\"\"\""
   ]
  },
  {
   "cell_type": "code",
   "execution_count": 20,
   "id": "22a0778b-1df1-4b0c-8603-435981122422",
   "metadata": {},
   "outputs": [
    {
     "name": "stdin",
     "output_type": "stream",
     "text": [
      "Enter first number:  3\n",
      "Enter second number:  5\n",
      "Enter third number:  4\n"
     ]
    },
    {
     "name": "stdout",
     "output_type": "stream",
     "text": [
      "The largest number between 3.0, 5.0 and 4.0 is 5.0\n"
     ]
    }
   ],
   "source": [
    "num1 = float(input(\"Enter first number: \"))\n",
    "num2 = float(input(\"Enter second number: \"))\n",
    "num3 = float(input(\"Enter third number: \"))\n",
    "\n",
    "if (num1 >= num2) and (num1 >= num3):\n",
    "    largest = num1\n",
    "elif (num2 >= num1) and (num2 >= num3):\n",
    "    largest = num2\n",
    "else:\n",
    "    largest = num3\n",
    "print(f\"The largest number between {num1}, {num2} and {num3} is {largest}\") "
   ]
  },
  {
   "cell_type": "code",
   "execution_count": 21,
   "id": "4b7f0289-785e-4de1-a213-226728bd0588",
   "metadata": {},
   "outputs": [
    {
     "data": {
      "text/plain": [
       "'\\nBài 5: Viết một chương trình tính 1/2 + 2/3 + 3/4 + ... + n/(n + 1) với n là số nguyên được nhập vào (n> 0).\\n'"
      ]
     },
     "execution_count": 21,
     "metadata": {},
     "output_type": "execute_result"
    }
   ],
   "source": [
    "\"\"\"\n",
    "Bài 5: Viết một chương trình tính 1/2 + 2/3 + 3/4 + ... + n/(n + 1) với n là số nguyên được nhập vào (n> 0).\n",
    "\"\"\"\n"
   ]
  },
  {
   "cell_type": "code",
   "execution_count": 23,
   "id": "e750bf24-fa0a-427a-b240-eed4f66183ff",
   "metadata": {},
   "outputs": [
    {
     "name": "stdin",
     "output_type": "stream",
     "text": [
      "Enter a number greater than 0: 2\n"
     ]
    },
    {
     "name": "stdout",
     "output_type": "stream",
     "text": [
      "sum is 1.1666666666666665\n"
     ]
    }
   ],
   "source": [
    "n = int(input(\"Enter a number greater than 0:\"))\n",
    "sum = 0.0 \n",
    "for i in range(1,n+1):\n",
    "    sum += float(float(i)/(i+1))\n",
    "print(f\"sum is {sum}\")\n",
    "    "
   ]
  },
  {
   "cell_type": "code",
   "execution_count": 24,
   "id": "91292b1c-52c2-4f01-915d-c6f862fb50ad",
   "metadata": {},
   "outputs": [
    {
     "data": {
      "text/plain": [
       "'\\nBài 6: Viết một chương trình chấp nhận đầu vào là một câu, đếm số ký tự hoa, số ký tự thường. \\nGiả sử đầu vào là: Quản Trị Mạng\\n     Thì đầu ra là: Chữ hoa: 3\\n                    Chữ thường: 8\\n'"
      ]
     },
     "execution_count": 24,
     "metadata": {},
     "output_type": "execute_result"
    }
   ],
   "source": [
    "\"\"\"\n",
    "Bài 6: Viết một chương trình chấp nhận đầu vào là một câu, đếm số ký tự hoa, số ký tự thường. \n",
    "Giả sử đầu vào là: Quản Trị Mạng\n",
    "     Thì đầu ra là: Chữ hoa: 3\n",
    "                    Chữ thường: 8\n",
    "\"\"\""
   ]
  },
  {
   "cell_type": "code",
   "execution_count": 26,
   "id": "4575f314-3492-4945-bb6e-2f9aaa6d95c5",
   "metadata": {},
   "outputs": [
    {
     "name": "stdin",
     "output_type": "stream",
     "text": [
      "Enter a string:  AAAAbbbb\n"
     ]
    },
    {
     "name": "stdout",
     "output_type": "stream",
     "text": [
      "Upper char:4\n",
      "Lower char:4\n"
     ]
    }
   ],
   "source": [
    "st = input(\"Enter a string: \")\n",
    "sum_upper_char=0\n",
    "sum_lower_char=0\n",
    "for c in st:\n",
    "    if (c.isupper()):\n",
    "        sum_upper_char+=1\n",
    "    elif (c.islower()):\n",
    "        sum_lower_char+=1\n",
    "print(f\"Upper char:{sum_upper_char}\")\n",
    "print(f\"Lower char:{sum_lower_char}\")"
   ]
  },
  {
   "cell_type": "code",
   "execution_count": 27,
   "id": "8b001119-3d38-4705-8a4c-b2f39ca1b74a",
   "metadata": {},
   "outputs": [
    {
     "data": {
      "text/plain": [
       "'\\nBài 7: Một số được gọi là số Amstrong bậc N, nếu nó là số nguyên dương và tổng bậc N của các các chữ số cấu thành thì bằng chính số đó.Ví dụ: \\n           Số Amstrong bậc 4:  abcd = a4 + b4 + c4 + d4\\n           Số Amstrong bậc N: abc….d  = aN + bN + cN + ….+ dN\\n                Cụ thể: 153 = 1*1*1 + 5*5*5 + 3*3*3  nên 153 số Amstrong.\\nViết chương trình nhập vào 1 số, cho biết số đó có phải là số Amstrong hay không?\\n'"
      ]
     },
     "execution_count": 27,
     "metadata": {},
     "output_type": "execute_result"
    }
   ],
   "source": [
    "\"\"\"\n",
    "Bài 7: Một số được gọi là số Amstrong bậc N, nếu nó là số nguyên dương và tổng bậc N của các các chữ số cấu thành thì bằng chính số đó.Ví dụ: \n",
    "           Số Amstrong bậc 4:  abcd = a4 + b4 + c4 + d4\n",
    "           Số Amstrong bậc N: abc….d  = aN + bN + cN + ….+ dN\n",
    "                Cụ thể: 153 = 1*1*1 + 5*5*5 + 3*3*3  nên 153 số Amstrong.\n",
    "Viết chương trình nhập vào 1 số, cho biết số đó có phải là số Amstrong hay không?\n",
    "\"\"\"\n"
   ]
  },
  {
   "cell_type": "code",
   "execution_count": 32,
   "id": "f63b6db3-dd8f-4ecd-a487-51f439a58335",
   "metadata": {},
   "outputs": [
    {
     "name": "stdin",
     "output_type": "stream",
     "text": [
      "Nhập một số nguyên dương:  10\n"
     ]
    },
    {
     "name": "stdout",
     "output_type": "stream",
     "text": [
      "10 không phải là số Amstrong\n"
     ]
    }
   ],
   "source": [
    "num = int(input(\"Nhập một số nguyên dương: \"))\n",
    "if num <= 0:\n",
    "    print(\"Số phải lớn hơn 0.\")\n",
    "else:\n",
    "    digits = [int(d) for d in str(num)]\n",
    "    n = len(digits)\n",
    "    total = 0\n",
    "    for d in digits:\n",
    "        total += d ** n\n",
    "    if total == num:\n",
    "        print(f\"{num} là số Amstrong bậc {n}\")\n",
    "    else:\n",
    "        print(f\"{num} không phải là số Amstrong\")"
   ]
  },
  {
   "cell_type": "code",
   "execution_count": null,
   "id": "0eef932a-dcdf-4e53-a2d0-dc1f51584226",
   "metadata": {},
   "outputs": [],
   "source": [
    "\"\"\"\n",
    "Bài 8: Viết chương trình loại bỏ các ký tự không phải là ký tự CHỮ CÁI và SỐ trong một chuỗi. \n",
    "          Ví dụ: Từ st1 = \"He is very handsome@%^&%^\" \n",
    "                     Trích thành chuỗi st2 = \"He is very handsome“\n",
    "\n",
    "\"\"\""
   ]
  },
  {
   "cell_type": "code",
   "execution_count": 37,
   "id": "7773b57a-cb77-4694-bb70-d68b091f1ccc",
   "metadata": {},
   "outputs": [
    {
     "name": "stdin",
     "output_type": "stream",
     "text": [
      "Enter string:  He is very handsome@%^&%^\n"
     ]
    },
    {
     "name": "stdout",
     "output_type": "stream",
     "text": [
      "He is very handsome\n"
     ]
    }
   ],
   "source": [
    "st1 = input(\"Enter string: \")\n",
    "st2 =\"\"\n",
    "for i in st1:\n",
    "    if (i.isalnum() or (i == \" \")):\n",
    "        st2+=i\n",
    "print(st2)"
   ]
  },
  {
   "cell_type": "code",
   "execution_count": null,
   "id": "116b793b-1d98-49e3-84f4-c4b48c81e88b",
   "metadata": {},
   "outputs": [],
   "source": [
    "\"\"\"\n",
    "Bài 9: Viết chương trình tách từ thành 1 danh sách và sắp xếp các từ theo alphabe"
   ]
  },
  {
   "cell_type": "code",
   "execution_count": 47,
   "id": "1a88ea7f-45cd-4d92-af89-7d176900c0b5",
   "metadata": {},
   "outputs": [
    {
     "name": "stdin",
     "output_type": "stream",
     "text": [
      "Enter string:  Hello everybody good afternoon\n"
     ]
    },
    {
     "name": "stdout",
     "output_type": "stream",
     "text": [
      "After sort:\n",
      "afternoon\n",
      "everybody\n",
      "good\n",
      "Hello\n"
     ]
    }
   ],
   "source": [
    "s = input(\"Enter string: \")\n",
    "words = s.split()\n",
    "\n",
    "words.sort(key=lambda x: x.lower())\n",
    "\n",
    "print(\"After sort:\")\n",
    "for w in words:\n",
    "    print(w)\n"
   ]
  },
  {
   "cell_type": "code",
   "execution_count": 48,
   "id": "61b47964-dc0c-47b8-a5ff-a97dcab2f02c",
   "metadata": {},
   "outputs": [
    {
     "data": {
      "text/plain": [
       "'\\nBài 10: Viết Chương trình nhập các số từ bàn phím. In ra giá trị trung bình\\n'"
      ]
     },
     "execution_count": 48,
     "metadata": {},
     "output_type": "execute_result"
    }
   ],
   "source": [
    "\"\"\"\n",
    "Bài 10: Viết Chương trình nhập các số từ bàn phím. In ra giá trị trung bình\n",
    "\"\"\""
   ]
  },
  {
   "cell_type": "code",
   "execution_count": 50,
   "id": "e969ba7d-77b4-4bce-871b-cc2b0303c74d",
   "metadata": {},
   "outputs": [
    {
     "name": "stdin",
     "output_type": "stream",
     "text": [
      "Enter a number: 5\n",
      "Enter a number: 6\n",
      "Enter a number: 3\n",
      "Enter a number: 5\n",
      "Enter a number: 4\n",
      "Enter a number: 2\n",
      "Enter a number: done\n"
     ]
    },
    {
     "name": "stdout",
     "output_type": "stream",
     "text": [
      "Average is: 4.166666666666667\n"
     ]
    }
   ],
   "source": [
    "total = 0\n",
    "count = 0 \n",
    "while(True):\n",
    "    inp = input(\"Enter a number:\")\n",
    "    if inp == \"done\":\n",
    "        break\n",
    "    value = float(inp)\n",
    "    total += value\n",
    "    count += 1\n",
    "average = total / count\n",
    "print(f\"Average is: {average}\")"
   ]
  },
  {
   "cell_type": "code",
   "execution_count": 51,
   "id": "f7847520-f87b-4c3e-9ffa-ed0fa43b6a01",
   "metadata": {},
   "outputs": [
    {
     "data": {
      "text/plain": [
       "'\\nBài 11: Viết Chương trình nhập các số từ bàn phím, các giá trị này lưu vào danh sách. Sau đó, in ra giá trị trung bình.\\n'"
      ]
     },
     "execution_count": 51,
     "metadata": {},
     "output_type": "execute_result"
    }
   ],
   "source": [
    "\"\"\"\n",
    "Bài 11: Viết Chương trình nhập các số từ bàn phím, các giá trị này lưu vào danh sách. Sau đó, in ra giá trị trung bình.\n",
    "\"\"\""
   ]
  },
  {
   "cell_type": "code",
   "execution_count": 4,
   "id": "676792dc-16d8-44e3-94cc-294c24a129f0",
   "metadata": {},
   "outputs": [
    {
     "name": "stdin",
     "output_type": "stream",
     "text": [
      "Nhập một số (gõ 'done' để kết thúc):  7\n",
      "Nhập một số (gõ 'done' để kết thúc):  9\n",
      "Nhập một số (gõ 'done' để kết thúc):  7\n",
      "Nhập một số (gõ 'done' để kết thúc):  9\n",
      "Nhập một số (gõ 'done' để kết thúc):  5\n",
      "Nhập một số (gõ 'done' để kết thúc):  \n"
     ]
    },
    {
     "name": "stdout",
     "output_type": "stream",
     "text": [
      "Vui lòng nhập một số hợp lệ!\n"
     ]
    },
    {
     "name": "stdin",
     "output_type": "stream",
     "text": [
      "Nhập một số (gõ 'done' để kết thúc):  4\n",
      "Nhập một số (gõ 'done' để kết thúc):  3\n",
      "Nhập một số (gõ 'done' để kết thúc):  5\n",
      "Nhập một số (gõ 'done' để kết thúc):  4\n",
      "Nhập một số (gõ 'done' để kết thúc):  done\n"
     ]
    },
    {
     "name": "stdout",
     "output_type": "stream",
     "text": [
      "\n",
      "Giá trị trung bình là: 5.89\n",
      "Danh sách các số: [7.0, 9.0, 7.0, 9.0, 5.0, 4.0, 3.0, 5.0, 4.0]\n"
     ]
    }
   ],
   "source": [
    "numlist = []  # Tạo danh sách rỗng để lưu các số\n",
    "\n",
    "while True:\n",
    "    n = input(\"Nhập một số (gõ 'done' để kết thúc): \")\n",
    "    if n.lower() == \"done\":\n",
    "        break\n",
    "    try:\n",
    "        value = float(n)\n",
    "        numlist.append(value)\n",
    "    except ValueError:\n",
    "        print(\"Vui lòng nhập một số hợp lệ!\")\n",
    "\n",
    "if numlist:\n",
    "    average = sum(numlist) / len(numlist)\n",
    "    print(f\"\\nGiá trị trung bình là: {average:.2f}\")\n",
    "    print(f\"Danh sách các số: {numlist}\")\n",
    "else:\n",
    "    print(\"Không có số nào được nhập.\")\n"
   ]
  },
  {
   "cell_type": "code",
   "execution_count": 5,
   "id": "a48bdd4c-e462-4422-aafc-e195788412e4",
   "metadata": {},
   "outputs": [
    {
     "data": {
      "text/plain": [
       "'\\nBài 12. Viết chương trình tìm tất cả các số chia hết cho 7 nhưng không phải bội số của 5, nằm trong đoạn 2000 và 3200 (tính cả 2000 và 3200). Các số thu được sẽ được lưu vào 1 danh sách sau đó in thành chuỗi trên một dòng, cách nhau bằng dấu phẩy.\\n'"
      ]
     },
     "execution_count": 5,
     "metadata": {},
     "output_type": "execute_result"
    }
   ],
   "source": [
    "\"\"\"\n",
    "Bài 12. Viết chương trình tìm tất cả các số chia hết cho 7 nhưng không phải bội số của 5, nằm trong đoạn 2000 và 3200 (tính cả 2000 và 3200). Các số thu được sẽ được lưu vào 1 danh sách sau đó in thành chuỗi trên một dòng, cách nhau bằng dấu phẩy.\n",
    "\"\"\""
   ]
  },
  {
   "cell_type": "code",
   "execution_count": 12,
   "id": "c8b0e745-17dc-4584-87ae-da25523cb337",
   "metadata": {},
   "outputs": [
    {
     "name": "stdout",
     "output_type": "stream",
     "text": [
      "2002, 2009, 2016, 2023, 2037, 2044, 2051, 2058, 2072, 2079, 2086, 2093, 2107, 2114, 2121, 2128, 2142, 2149, 2156, 2163, 2177, 2184, 2191, 2198, 2212, 2219, 2226, 2233, 2247, 2254, 2261, 2268, 2282, 2289, 2296, 2303, 2317, 2324, 2331, 2338, 2352, 2359, 2366, 2373, 2387, 2394, 2401, 2408, 2422, 2429, 2436, 2443, 2457, 2464, 2471, 2478, 2492, 2499, 2506, 2513, 2527, 2534, 2541, 2548, 2562, 2569, 2576, 2583, 2597, 2604, 2611, 2618, 2632, 2639, 2646, 2653, 2667, 2674, 2681, 2688, 2702, 2709, 2716, 2723, 2737, 2744, 2751, 2758, 2772, 2779, 2786, 2793, 2807, 2814, 2821, 2828, 2842, 2849, 2856, 2863, 2877, 2884, 2891, 2898, 2912, 2919, 2926, 2933, 2947, 2954, 2961, 2968, 2982, 2989, 2996, 3003, 3017, 3024, 3031, 3038, 3052, 3059, 3066, 3073, 3087, 3094, 3101, 3108, 3122, 3129, 3136, 3143, 3157, 3164, 3171, 3178, 3192, 3199\n"
     ]
    }
   ],
   "source": [
    "numlist = []\n",
    "i = 2000\n",
    "for i in range(2000, 3201):   \n",
    "    if (i % 7 == 0) and (i % 5 != 0):      \n",
    "        numlist.append(str(i))\n",
    "print(', '.join(numlist))"
   ]
  },
  {
   "cell_type": "code",
   "execution_count": null,
   "id": "16f8b8c7-13df-4f83-b84f-14f5757949ae",
   "metadata": {},
   "outputs": [],
   "source": [
    "\"\"\"\n",
    "Bài 13: Viết một chương trình cho phép người dung nhập vào một chuỗi trên nhiều dòng, sau đó chuyển các dòng này thành chữ in hoa và in ra màn hình. Yêu cầu:\"\"\""
   ]
  },
  {
   "cell_type": "code",
   "execution_count": 18,
   "id": "288a183b-1c36-4d14-868e-c80f79683dd1",
   "metadata": {},
   "outputs": [
    {
     "name": "stdin",
     "output_type": "stream",
     "text": [
      " Chào mọi người\n",
      " Tôi là Mai Phương nè\n",
      " \n"
     ]
    },
    {
     "name": "stdout",
     "output_type": "stream",
     "text": [
      "CHÀO MỌI NGƯỜI\n",
      "TÔI LÀ MAI PHƯƠNG NÈ\n"
     ]
    }
   ],
   "source": [
    "lines = []\n",
    "while True:\n",
    "    st = input()\n",
    "    if st:\n",
    "        lines.append(st.upper())\n",
    "    else:\n",
    "        break\n",
    "for sentence in lines:\n",
    "    print(sentence)"
   ]
  },
  {
   "cell_type": "code",
   "execution_count": null,
   "id": "8b4f3ccc-fe80-4997-ab7f-acf10186dfdf",
   "metadata": {},
   "outputs": [],
   "source": [
    "\"\"\"\n",
    "Bài 14: Viết một chương trình tìm tất cả các số trong đoạn 100 và 300 (tính cả 2 số này) sao cho tất cả các chữ số trong số đó là số chẵn. In các số tìm được thành chuỗi cách nhau bởi dấu phẩy, trên một dòng.\n",
    "\"\"\"\n",
    "\n",
    " \n"
   ]
  },
  {
   "cell_type": "code",
   "execution_count": 19,
   "id": "d0c95b25-797b-4417-9119-84689121f734",
   "metadata": {},
   "outputs": [
    {
     "name": "stdout",
     "output_type": "stream",
     "text": [
      "200,202,204,206,208,220,222,224,226,228,240,242,244,246,248,260,262,264,266,268,280,282,284,286,288\n"
     ]
    }
   ],
   "source": [
    "result = []\n",
    "\n",
    "for i in range(100, 301):\n",
    "    if all(int(d) % 2 == 0 for d in str(i)):  \n",
    "        result.append(str(i))\n",
    "\n",
    "print(\",\".join(result))\n",
    "  "
   ]
  },
  {
   "cell_type": "code",
   "execution_count": 21,
   "id": "834e97bd-0c32-428d-8c00-c6d40be24d92",
   "metadata": {},
   "outputs": [
    {
     "data": {
      "text/plain": [
       "'\\nBài 15: Viết chương trình nhập một chuỗi số, phân tách bằng dấu phẩy. In ra một danh sách và một tuple chứa mọi số.\\nVí dụ: Đầu vào được cung cấp là\\xa034,67,55,33,12,98 thì đầu ra là:\\n[\"34\", \"67\", \"55\", \"33\", \"12\", \"98\"]\\n(\"34\", \"67\", \"55\", \"33\", \"12\", \"98\")\\n'"
      ]
     },
     "execution_count": 21,
     "metadata": {},
     "output_type": "execute_result"
    }
   ],
   "source": [
    "\"\"\"\n",
    "Bài 15: Viết chương trình nhập một chuỗi số, phân tách bằng dấu phẩy. In ra một danh sách và một tuple chứa mọi số.\n",
    "Ví dụ: Đầu vào được cung cấp là 34,67,55,33,12,98 thì đầu ra là:\n",
    "[\"34\", \"67\", \"55\", \"33\", \"12\", \"98\"]\n",
    "(\"34\", \"67\", \"55\", \"33\", \"12\", \"98\")\n",
    "\"\"\""
   ]
  },
  {
   "cell_type": "code",
   "execution_count": 22,
   "id": "f58bc55a-5ea2-471a-9b61-ff21e694561a",
   "metadata": {},
   "outputs": [
    {
     "name": "stdin",
     "output_type": "stream",
     "text": [
      "Nhập vào các giá trị: 34,67,55,33,12,98\n"
     ]
    },
    {
     "name": "stdout",
     "output_type": "stream",
     "text": [
      "['34', '67', '55', '33', '12', '98']\n",
      "('34', '67', '55', '33', '12', '98')\n"
     ]
    }
   ],
   "source": [
    "chuoi=input(\"Nhập vào các giá trị:\")\n",
    "kieu_ds=chuoi.split(\",\")\n",
    "kieu_tuples=tuple(kieu_ds)\n",
    "print(kieu_ds)\n",
    "print(kieu_tuples)\n"
   ]
  },
  {
   "cell_type": "code",
   "execution_count": null,
   "id": "d0c4452f-e0d5-4e01-a1e7-9078fc4bacae",
   "metadata": {},
   "outputs": [],
   "source": [
    "\"\"\"\n",
    "Bài 16: Tạo ra một tự điển, có n phần tử, các khóa là từ 1 đến n và giá trị tương ứng là bình phương của khóa. Sau đó in từ điển ra màn hình\n",
    "\"\"\""
   ]
  },
  {
   "cell_type": "code",
   "execution_count": 23,
   "id": "b1a3c914-64e0-45e1-9c69-42e444c4a7ba",
   "metadata": {},
   "outputs": [
    {
     "name": "stdin",
     "output_type": "stream",
     "text": [
      "Nhập vào một số: 4\n"
     ]
    },
    {
     "name": "stdout",
     "output_type": "stream",
     "text": [
      "{1: 1}\n",
      "{1: 1, 2: 4}\n",
      "{1: 1, 2: 4, 3: 9}\n",
      "{1: 1, 2: 4, 3: 9, 4: 16}\n"
     ]
    }
   ],
   "source": [
    "n=int(input(\"Nhập vào một số:\"))\n",
    "d=dict()\n",
    "for i in range(1,n+1):\n",
    "    d[i]=i*i\n",
    "    print(d)\n"
   ]
  },
  {
   "cell_type": "code",
   "execution_count": null,
   "id": "5391a879-3aee-49e6-a220-7ef85cdb86bd",
   "metadata": {},
   "outputs": [],
   "source": [
    "\"\"\"\n",
    "Bài 17: Sử dụng cấu trúc từ điển, viết một chương trình nhập một câu, in số chữ cái và chữ số trong câu đó. Giả sử đầu vào chuỗi: hello world! 123\n",
    "   Thì đầu ra sẽ là: \n",
    "                       - Số chữ cái là: 10                       - Số chữ số là: 3\n",
    "Gợi ý: giả sử ch là một ký tự. Thì:\n",
    "          - ch.isalpha() = True nếu ch là ký tự chữ cái\n",
    "          - ch.isdigit() = True nếu ch là ký tự số\n",
    "\"\"\"\n",
    " \n"
   ]
  },
  {
   "cell_type": "code",
   "execution_count": 7,
   "id": "a73b4791-220b-4f96-bc7d-a5f7ead6ca75",
   "metadata": {},
   "outputs": [
    {
     "name": "stdin",
     "output_type": "stream",
     "text": [
      "Enter your string:  hello world! 123\n"
     ]
    },
    {
     "name": "stdout",
     "output_type": "stream",
     "text": [
      "Số chữ cái là: 10 \n",
      "Số chữ số là: 3\n"
     ]
    }
   ],
   "source": [
    "st = input(\"Enter your string: \")\n",
    "d = {\"count_alpha\" : 0, \"count_digit\" : 0}\n",
    "for ch in st:\n",
    "    if ch.isalpha() == True:\n",
    "        d[\"count_alpha\"] += 1\n",
    "    elif ch.isdigit() == True :\n",
    "        d[\"count_digit\"] += 1\n",
    "print(f\"Số chữ cái là: {d[\"count_alpha\"]} \\nSố chữ số là: {d[\"count_digit\"]}\")"
   ]
  },
  {
   "cell_type": "code",
   "execution_count": null,
   "id": "cfb52664-88d8-40ad-a5ae-111d4fc13247",
   "metadata": {},
   "outputs": [],
   "source": [
    "\"\"\"\n",
    "Bài 18: Sử dụng cấu trúc từ điển, viết một chương trình nhập một câu, in số chữ hoa và số chữ thường trong câu đó. Giả sử đầu vào chuỗi: Hello World\n",
    "   Thì đầu ra sẽ là: \n",
    "                       - Số chữ thường: 8\u000b",
    "                       - Số chữ hoa: 2\n",
    "Gợi ý: giả sử ch là một ký tự. Thì:\n",
    "  - ch.isupper() = True nếu ch là ký tự hoa\n",
    "  - ch.islower() = True nếu ch là ký tự thường\n",
    "\"\"\""
   ]
  },
  {
   "cell_type": "code",
   "execution_count": 9,
   "id": "d69bfc21-d521-4627-9724-d4384c62b6c9",
   "metadata": {},
   "outputs": [
    {
     "name": "stdin",
     "output_type": "stream",
     "text": [
      "Enter your string:  Hello World\n"
     ]
    },
    {
     "name": "stdout",
     "output_type": "stream",
     "text": [
      "Số chữ hoa: là: 2 \n",
      "Số chữ thường: là: 8\n"
     ]
    }
   ],
   "source": [
    "st = input(\"Enter your string: \")\n",
    "d = {\"count_upper\" : 0, \"count_lower\" : 0}\n",
    "for ch in st:\n",
    "    if ch.isupper() == True:\n",
    "        d[\"count_upper\"] += 1\n",
    "    elif ch.islower() == True :\n",
    "        d[\"count_lower\"] += 1\n",
    "print(f\"Số chữ hoa: là: {d[\"count_upper\"]} \\nSố chữ thường: là: {d[\"count_lower\"]}\")"
   ]
  },
  {
   "cell_type": "code",
   "execution_count": null,
   "id": "9a44a412-a79a-441b-a024-b95f95f7db03",
   "metadata": {},
   "outputs": [],
   "source": [
    "\"\"\"\n",
    "Bài 19: Hiển thị 10 từ có tuần suất xuất hiện nhiều nhất\n",
    "(phổ biến nhất)\n",
    "\"\"\""
   ]
  },
  {
   "cell_type": "code",
   "execution_count": null,
   "id": "acc12991-1b6f-4f6a-b9a9-6b49f266cc49",
   "metadata": {},
   "outputs": [],
   "source": [
    "# Mở tệp văn bản\n",
    "ftext = open(\"romeo.txt\")\n",
    "\n",
    "# Tạo từ điển đếm tần suất\n",
    "tu_dien_cac_tu = {}\n",
    "for dong in ftext:\n",
    "    danh_sach_tu = dong.split()\n",
    "    for tu in danh_sach_tu:\n",
    "        tu_dien_cac_tu[tu] = tu_dien_cac_tu.get(tu, 0) + 1\n",
    "\n",
    "# Chuyển từ điển thành danh sách tuple (số lần, từ)\n",
    "danh_sach = []\n",
    "for key, val in tu_dien_cac_tu.items():\n",
    "    newtup = (val, key)\n",
    "    danh_sach.append(newtup)\n",
    "\n",
    "# Sắp xếp giảm dần theo số lần xuất hiện\n",
    "danh_sach = sorted(danh_sach, reverse=True)\n",
    "\n",
    "# Hiển thị 10 từ phổ biến nhất\n",
    "for val, key in danh_sach[:10]:\n",
    "    print(key, val)\n"
   ]
  },
  {
   "cell_type": "code",
   "execution_count": 11,
   "id": "de0add24-f96a-413e-b23b-ee15f6ff76e0",
   "metadata": {},
   "outputs": [
    {
     "data": {
      "text/plain": [
       "'\\nBài 20: Viết một chương trình tính và in kết quả giai thừa của một số nhập vào từ bàn phím.     \\n\\n'"
      ]
     },
     "execution_count": 11,
     "metadata": {},
     "output_type": "execute_result"
    }
   ],
   "source": [
    "\"\"\"\n",
    "Bài 20: Viết một chương trình tính và in kết quả giai thừa của một số nhập vào từ bàn phím.     \n",
    "\n",
    "\"\"\""
   ]
  },
  {
   "cell_type": "code",
   "execution_count": 12,
   "id": "de737b46-1e12-4947-b428-89c888890403",
   "metadata": {},
   "outputs": [
    {
     "name": "stdin",
     "output_type": "stream",
     "text": [
      "Nhập số cần tính giai thừa: 6\n"
     ]
    },
    {
     "name": "stdout",
     "output_type": "stream",
     "text": [
      "Giai thừa của 6 là: 720\n"
     ]
    }
   ],
   "source": [
    "x=int(input(\"Nhập số cần tính giai thừa:\"))\n",
    "def giaithua(x):\n",
    "    if x == 0:\n",
    "        return 1           \n",
    "    return x * giaithua(x - 1)       \n",
    "print(\"Giai thừa của\",x, \"là:\", giaithua(x))"
   ]
  },
  {
   "cell_type": "code",
   "execution_count": 14,
   "id": "667c8c5e-80db-4f80-aefe-42ccb3ca64c8",
   "metadata": {},
   "outputs": [
    {
     "data": {
      "text/plain": [
       "'\\nBài 21: Định nghĩa một hàm có thể tạo và in list chứa các giá trị bình phương của các số từ 1 đến 20 (tính cả 1 và 20).\\xa0Sau đó thực thi hàm.\\n'"
      ]
     },
     "execution_count": 14,
     "metadata": {},
     "output_type": "execute_result"
    }
   ],
   "source": [
    "\"\"\"\n",
    "Bài 21: Định nghĩa một hàm có thể tạo và in list chứa các giá trị bình phương của các số từ 1 đến 20 (tính cả 1 và 20). Sau đó thực thi hàm.\n",
    "\"\"\""
   ]
  },
  {
   "cell_type": "code",
   "execution_count": 16,
   "id": "10d514ef-d1bb-4799-959c-f9fda63d0bad",
   "metadata": {},
   "outputs": [
    {
     "name": "stdout",
     "output_type": "stream",
     "text": [
      "[1, 4, 9, 16, 25, 36, 49, 64, 81, 100, 121, 144, 169, 196, 225, 256, 289, 324, 361, 400]\n"
     ]
    }
   ],
   "source": [
    "def creat_and_print():\n",
    "    s_list = []\n",
    "    for i in range(1,21):\n",
    "        s_list.append(i*i)\n",
    "    print(s_list)\n",
    "    \n",
    "creat_and_print()"
   ]
  },
  {
   "cell_type": "code",
   "execution_count": null,
   "id": "20d70fa9-a82d-4209-b6df-e1f37c1c4d4e",
   "metadata": {},
   "outputs": [],
   "source": [
    "\"\"\"\n",
    "Bài 22: Định nghĩa một hàm có thể tạo danh sách chứa các giá trị bình phương của các số từ 1 đến 20 (bao gồm cả 1 và 20) và in 5 phần tử đầu tiên cùng với 5 phần tử cuối cùng trong danh sách.\n",
    "\n",
    "\"\"\""
   ]
  },
  {
   "cell_type": "code",
   "execution_count": 18,
   "id": "69232819-e860-4f37-912e-b55d1ed03c09",
   "metadata": {},
   "outputs": [
    {
     "name": "stdout",
     "output_type": "stream",
     "text": [
      " 5 phần tử đầu tiên là [1, 4, 9, 16, 25] cùng với 5 phần tử cuối cùng trong danh sách [256, 289, 324, 361, 400]\n"
     ]
    }
   ],
   "source": [
    "def creat_and_print_5():\n",
    "    s_list = []\n",
    "    for i in range(1,21):\n",
    "        s_list.append(i*i)\n",
    "    print(f\" 5 phần tử đầu tiên là {s_list[:5]} cùng với 5 phần tử cuối cùng trong danh sách {s_list[-5:]}\")\n",
    "    \n",
    "creat_and_print_5()"
   ]
  },
  {
   "cell_type": "code",
   "execution_count": 26,
   "id": "307228a1-ea9d-442f-8d69-ce573e810225",
   "metadata": {},
   "outputs": [
    {
     "data": {
      "text/plain": [
       "'\\nBài 23: Định nghĩa một hàm Check_chan(n) kiểm tra một số có phải là số chẵn hay không. Yêu cầu:\\nHàm được luu vào tệp Kiem_tra.py\\nTạo tệp Test.py để sử dụng hàm này nhằm kiểm tra một số nhập vào từ bàn phím có phải là số chẳn hay không.\\n'"
      ]
     },
     "execution_count": 26,
     "metadata": {},
     "output_type": "execute_result"
    }
   ],
   "source": [
    "\"\"\"\n",
    "Bài 23: Định nghĩa một hàm Check_chan(n) kiểm tra một số có phải là số chẵn hay không. Yêu cầu:\n",
    "Hàm được luu vào tệp Kiem_tra.py\n",
    "Tạo tệp Test.py để sử dụng hàm này nhằm kiểm tra một số nhập vào từ bàn phím có phải là số chẳn hay không.\n",
    "\"\"\"\n"
   ]
  },
  {
   "cell_type": "code",
   "execution_count": 22,
   "id": "ed281f1d-3d6e-4f7a-a913-33c95a2f7f4c",
   "metadata": {},
   "outputs": [
    {
     "name": "stdout",
     "output_type": "stream",
     "text": [
      "Overwriting Kiem_tra.py\n"
     ]
    }
   ],
   "source": [
    "%%writefile Kiem_tra.py\n",
    "def Check_chan(n):\n",
    "    \"\"\"Hàm kiểm tra số chẵn\"\"\"\n",
    "    if n % 2 == 0:\n",
    "        return True\n",
    "    else:\n",
    "        return False"
   ]
  },
  {
   "cell_type": "code",
   "execution_count": 23,
   "id": "709d5066-89c8-4fb2-af13-158cfaaad246",
   "metadata": {},
   "outputs": [
    {
     "name": "stdout",
     "output_type": "stream",
     "text": [
      "Writing Test.py\n"
     ]
    }
   ],
   "source": [
    "%%writefile Test.py\n",
    "from Kiem_tra import Check_chan\n",
    "\n",
    "n = int(input(\"Nhập vào một số: \"))\n",
    "\n",
    "if Check_chan(n):\n",
    "    print(f\"{n} là số chẵn\")\n",
    "else:\n",
    "    print(f\"{n} là số lẻ\")\n"
   ]
  },
  {
   "cell_type": "code",
   "execution_count": 25,
   "id": "8a310775-20e3-4e5d-95c5-2da61cf495e0",
   "metadata": {},
   "outputs": [
    {
     "name": "stdin",
     "output_type": "stream",
     "text": [
      "Nhập vào một số:  4\n"
     ]
    },
    {
     "name": "stdout",
     "output_type": "stream",
     "text": [
      "Số chẵn\n"
     ]
    }
   ],
   "source": [
    "from Kiem_tra import Check_chan\n",
    "\n",
    "n = int(input(\"Nhập vào một số: \"))\n",
    "if Check_chan(n):\n",
    "    print(\"Số chẵn\")\n",
    "else:\n",
    "    print(\"Số lẻ\")\n"
   ]
  },
  {
   "cell_type": "code",
   "execution_count": 27,
   "id": "c34b7aba-b125-43d0-9f02-5bc395aa23f0",
   "metadata": {},
   "outputs": [
    {
     "data": {
      "text/plain": [
       "'\\nBài 24: Định nghĩa một hàm có đầu vào là 2 chuỗi và in chuỗi có độ dài lớn hơn trong giao diện điều khiển. Nếu 2 chuỗi có chiều dài như nhau thì in tất cả các chuỗi theo dòng. Yêu cầu:\\nHàm được luu vào tệp So_Sanh_Chuoi.py\\nTạo tệp Test.py để sử dụng hàm này nhằm kiểm tra 2 chuỗi và in ra kết quả.\\n'"
      ]
     },
     "execution_count": 27,
     "metadata": {},
     "output_type": "execute_result"
    }
   ],
   "source": [
    "\"\"\"\n",
    "Bài 24: Định nghĩa một hàm có đầu vào là 2 chuỗi và in chuỗi có độ dài lớn hơn trong giao diện điều khiển. Nếu 2 chuỗi có chiều dài như nhau thì in tất cả các chuỗi theo dòng. Yêu cầu:\n",
    "Hàm được luu vào tệp So_Sanh_Chuoi.py\n",
    "Tạo tệp Test.py để sử dụng hàm này nhằm kiểm tra 2 chuỗi và in ra kết quả.\n",
    "\"\"\""
   ]
  },
  {
   "cell_type": "code",
   "execution_count": 28,
   "id": "b11ebde3-4ebd-4a21-a37a-63565eb6ac1b",
   "metadata": {},
   "outputs": [
    {
     "name": "stdout",
     "output_type": "stream",
     "text": [
      "Writing So_Sanh_Chuoi.py\n"
     ]
    }
   ],
   "source": [
    "%%writefile So_Sanh_Chuoi.py\n",
    "def Check(str1,str2):\n",
    "    if len(str1) == len(str2):\n",
    "        print(f\"{str1} \\n{str2}\")\n",
    "    elif len(str1) > len(str2):\n",
    "        print(str1)\n",
    "    else:\n",
    "        print(str2)"
   ]
  },
  {
   "cell_type": "code",
   "execution_count": 29,
   "id": "b3b5707c-3376-4c2c-964b-24b5af8e7b4d",
   "metadata": {},
   "outputs": [
    {
     "name": "stdout",
     "output_type": "stream",
     "text": [
      "Writing Test_Chuoi.py\n"
     ]
    }
   ],
   "source": [
    "%%writefile Test_Chuoi.py\n",
    "from So_Sanh_Chuoi import Check\n",
    "str1 = input(\"Nhập chuỗi thứ nhất: \")\n",
    "str2 = input(\"Nhập chuỗi thứ hai: \")\n",
    "Check(str1,str2)"
   ]
  },
  {
   "cell_type": "code",
   "execution_count": 31,
   "id": "8ce26b19-4d37-4028-8964-8e67b8df9441",
   "metadata": {},
   "outputs": [
    {
     "name": "stdin",
     "output_type": "stream",
     "text": [
      "Nhập chuỗi thứ nhất:  Hello mọi người\n",
      "Nhập chuỗi thứ hai:  Konichiwa\n"
     ]
    },
    {
     "name": "stdout",
     "output_type": "stream",
     "text": [
      "Hello mọi người\n"
     ]
    }
   ],
   "source": [
    "from So_Sanh_Chuoi import Check\n",
    "str1 = input(\"Nhập chuỗi thứ nhất: \")\n",
    "str2 = input(\"Nhập chuỗi thứ hai: \")\n",
    "Check(str1,str2)"
   ]
  },
  {
   "cell_type": "code",
   "execution_count": null,
   "id": "a9e56dda-f1b4-44a8-936f-56ac6982a295",
   "metadata": {},
   "outputs": [],
   "source": [
    "\"\"\"\n",
    "Bài 25: Tạo tệp tu_dien.py để định nghĩa:\n",
    "               - 01 hàm Tao_TD(Max) để tạo 1 từ điển, chứa các key là số từ 1 đến Max (số Max nhập vào từ bàn phím) và các giá trị là bình phương của key. \n",
    "               - 01 Hàm Print_Item(TD) để in các phần tử của từ điển.\n",
    "               - 01 Hàm Print_Key(TD) để in các giá trị của các phần tử từ điển\n",
    "               - 01 Hàm Print_Value(TD) để in giá trị của các phần tử từ điển \n",
    "               - Tạo tệp Test_TD.py để sử dụng các hàm này.\n",
    "\"\"\""
   ]
  },
  {
   "cell_type": "code",
   "execution_count": 4,
   "id": "44b1a8e5-cc76-43d0-8c6e-964f8a6a59f1",
   "metadata": {},
   "outputs": [
    {
     "name": "stdout",
     "output_type": "stream",
     "text": [
      "Overwriting tu_dien.py\n"
     ]
    }
   ],
   "source": [
    "%%writefile tu_dien.py\n",
    "def tao_TD(Max):\n",
    "    d=dict()\n",
    "    for i in range(1,Max+1):       \n",
    "        d[i]=i**2\n",
    "    return d \n",
    "def Print_Item(TD):            \n",
    "    for k,v in TD.items():     \n",
    "         print(k,v) \n",
    "def Print_key(TD):\n",
    "    for k in TD.keys():\n",
    "         print(k) \n",
    "def Print_value(TD):\n",
    "    for v in TD.values():\n",
    "         print(v) \n"
   ]
  },
  {
   "cell_type": "code",
   "execution_count": 5,
   "id": "81143b2a-f900-419b-a4e4-ef3b4036f91e",
   "metadata": {},
   "outputs": [
    {
     "name": "stdin",
     "output_type": "stream",
     "text": [
      "Nhập chỉ số Max: 4\n"
     ]
    },
    {
     "name": "stdout",
     "output_type": "stream",
     "text": [
      "Các phần tử của từ điển là:\n",
      "1 1\n",
      "2 4\n",
      "3 9\n",
      "4 16\n",
      "Khóa các ph.tử của từ điển:\n",
      "1\n",
      "2\n",
      "3\n",
      "4\n",
      "Giá trị các ph.tử của từ điển:\n",
      "1\n",
      "4\n",
      "9\n",
      "16\n"
     ]
    }
   ],
   "source": [
    "from tu_dien import *\n",
    "max = int(input(\"Nhập chỉ số Max:\"))\n",
    "TD = tao_TD(max)\n",
    "print(\"Các phần tử của từ điển là:\")\n",
    "Print_Item(TD) \n",
    "print(\"Khóa các ph.tử của từ điển:\")\n",
    "Print_key(TD) \n",
    "print(\"Giá trị các ph.tử của từ điển:\")\n",
    "Print_value(TD) \n"
   ]
  },
  {
   "cell_type": "code",
   "execution_count": 6,
   "id": "aa0b4824-db69-4160-90cf-87f599cea5d2",
   "metadata": {},
   "outputs": [
    {
     "data": {
      "text/plain": [
       "'\\nBài 26: Viết một chương trình đọc một chữ cái từ người dùng. Nếu người dùng nhập a, e, i, o hoặc u thì chương trình hiển thị một thông báo cho biết rằng chữ cái đã nhập là nguyên âm (xét ngôn ngữ Anh). Nếu người dùng nhập y thì chương trình sẽ hiển thị một thông báo cho biết  có thể y là nguyên âm  hoặc phụ âm. Nếu không phải các trường hợp trên, chương trình sẽ hiển thị một thông báo cho biết rằng chữ cái là phụ âm\\n\\n'"
      ]
     },
     "execution_count": 6,
     "metadata": {},
     "output_type": "execute_result"
    }
   ],
   "source": [
    "\"\"\"\n",
    "Bài 26: Viết một chương trình đọc một chữ cái từ người dùng. Nếu người dùng nhập a, e, i, o hoặc u thì chương trình hiển thị một thông báo cho biết rằng chữ cái đã nhập là nguyên âm (xét ngôn ngữ Anh). Nếu người dùng nhập y thì chương trình sẽ hiển thị một thông báo cho biết  có thể y là nguyên âm  hoặc phụ âm. Nếu không phải các trường hợp trên, chương trình sẽ hiển thị một thông báo cho biết rằng chữ cái là phụ âm\n",
    "\n",
    "\"\"\""
   ]
  },
  {
   "cell_type": "code",
   "execution_count": 15,
   "id": "5a225cbd-2ee1-4322-9901-c9060a73875b",
   "metadata": {},
   "outputs": [
    {
     "name": "stdin",
     "output_type": "stream",
     "text": [
      "Nhập 1 chữ cái:  m\n"
     ]
    },
    {
     "name": "stdout",
     "output_type": "stream",
     "text": [
      "Chữ cái là phụ âm\n"
     ]
    }
   ],
   "source": [
    "ch = input(\"Nhập 1 chữ cái: \").lower()\n",
    "if ch in (\"a\",\"e\",\"i\",\"u\",\"o\"):\n",
    "    print(\"Chữ cái đã nhập là nguyên âm\")\n",
    "elif ch == \"y\":\n",
    "    print(\"Có thể y là nguyên âm hoặc phụ âm\")\n",
    "else:\n",
    "    print(\"Chữ cái là phụ âm\")"
   ]
  },
  {
   "cell_type": "code",
   "execution_count": 7,
   "id": "65409fc4-f847-40c5-8999-8873202227bb",
   "metadata": {},
   "outputs": [
    {
     "data": {
      "text/plain": [
       "'\\nBài 27: Viết chương trình xác định tên của hình dạng dựa trên số cạnh của nó. Ví dụ, nhập số 3 thì là hình tam giác, 4 hình tứ giác ,... Yêu cầu: Chương trình hỗ trợ các hình dạng từ 3 đến 10 cạnh. Nếu số cạnh vượt ra bên ngoài phạm vi này thì chương trình sẽ hiển thị thông báo lỗi thích hợp\\n'"
      ]
     },
     "execution_count": 7,
     "metadata": {},
     "output_type": "execute_result"
    }
   ],
   "source": [
    "\"\"\"\n",
    "Bài 27: Viết chương trình xác định tên của hình dạng dựa trên số cạnh của nó. Ví dụ, nhập số 3 thì là hình tam giác, 4 hình tứ giác ,... Yêu cầu: Chương trình hỗ trợ các hình dạng từ 3 đến 10 cạnh. Nếu số cạnh vượt ra bên ngoài phạm vi này thì chương trình sẽ hiển thị thông báo lỗi thích hợp\n",
    "\"\"\"\n"
   ]
  },
  {
   "cell_type": "code",
   "execution_count": 21,
   "id": "3f8c8175-45cf-4788-b0f6-066a12e53ab5",
   "metadata": {},
   "outputs": [
    {
     "name": "stdin",
     "output_type": "stream",
     "text": [
      "Nhập số:  4\n"
     ]
    },
    {
     "name": "stdout",
     "output_type": "stream",
     "text": [
      "4 cạnh là hình tứ giác\n"
     ]
    }
   ],
   "source": [
    "shape ={\n",
    "    3 : \"tam\",\n",
    "    4 : \"tứ\",\n",
    "    5 : \"ngũ\",\n",
    "    6 : \"lục\",\n",
    "    7 : \"thất\",\n",
    "    8 : \"bát\",\n",
    "    9 : \"cửu\",\n",
    "    10: \"thập\"\n",
    "}\n",
    "num= int(input(\"Nhập số: \"))\n",
    "if num in shape:\n",
    "    print(f\"{num} cạnh là hình {shape[num]} giác\")\n",
    "else :\n",
    "    print(\"Lỗi: Chương trình chỉ hỗ trợ các hình có từ 3 đến 10 cạnh\")"
   ]
  },
  {
   "cell_type": "code",
   "execution_count": 8,
   "id": "18fa199d-83a5-466f-b69d-19794b9e7a89",
   "metadata": {},
   "outputs": [
    {
     "data": {
      "text/plain": [
       "'\\nBài 28: Số ngày của một tháng thay đổi từ 28 đến 31 ngày. Viết một chương trình đọc tên của một tháng từ người dùng dưới dạng một chuỗi. Sau đó, chương trình sẽ hiển thị số ngày trong tháng đó (Chú ý: Số ngày là  28 hoặc 29 ngày để biểu diễn cho tháng 2).\\n'"
      ]
     },
     "execution_count": 8,
     "metadata": {},
     "output_type": "execute_result"
    }
   ],
   "source": [
    "\"\"\"\n",
    "Bài 28: Số ngày của một tháng thay đổi từ 28 đến 31 ngày. Viết một chương trình đọc tên của một tháng từ người dùng dưới dạng một chuỗi. Sau đó, chương trình sẽ hiển thị số ngày trong tháng đó (Chú ý: Số ngày là  28 hoặc 29 ngày để biểu diễn cho tháng 2).\n",
    "\"\"\""
   ]
  },
  {
   "cell_type": "code",
   "execution_count": 28,
   "id": "29ce7148-5f57-45a3-acca-eff49e10b4c5",
   "metadata": {},
   "outputs": [
    {
     "name": "stdin",
     "output_type": "stream",
     "text": [
      "Nhập tháng (có thể bằng tiếng Anh hoặc tiếng Việt):  july\n"
     ]
    },
    {
     "name": "stdout",
     "output_type": "stream",
     "text": [
      "Tháng July có 31\n"
     ]
    }
   ],
   "source": [
    "thang = input(\"Nhập tháng (có thể bằng tiếng Anh hoặc tiếng Việt): \").strip().lower()\n",
    "Dayofmonth = {\n",
    "    \"một\" : 31, \n",
    "    \"hai\" : \"28 hoặc 29\",\n",
    "    \"ba\"  : 31,\n",
    "    \"năm\" : 31,\n",
    "    \"bảy\" : 31,\n",
    "    \"tám\" : 31,\n",
    "    \"mười\": 31,\n",
    "    \"mười hai\": 31,\n",
    "    \"bốn\" : 30,\n",
    "    \"sáu\" : 30,\n",
    "    \"chín\": 30,\n",
    "    \"mười một\": 30,\n",
    "    \"tư\" : 30,\n",
    "    \n",
    "    \"january\": 31,\n",
    "    \"march\": 31,\n",
    "    \"may\": 31,\n",
    "    \"july\": 31,\n",
    "    \"august\": 31,\n",
    "    \"october\": 31,\n",
    "    \"december\": 31,\n",
    "    \"april\": 30,\n",
    "    \"june\": 30,\n",
    "    \"september\": 30,\n",
    "    \"november\": 30,\n",
    "    \"february\": \"28 hoặc 29\"\n",
    "}\n",
    "if thang in Dayofmonth:\n",
    "    print(f\"Tháng {thang.capitalize()} có {Dayofmonth[thang]}\")\n",
    "else :\n",
    "    print (\"Hãy nhập tháng hợp lệ(có thể tiếng Anh hoặc tiếng Việt)\")\n"
   ]
  },
  {
   "cell_type": "code",
   "execution_count": 29,
   "id": "c8a57e11-0423-42c6-8f25-e8f0dd8f73af",
   "metadata": {},
   "outputs": [
    {
     "data": {
      "text/plain": [
       "'\\nBài 29: Một hình tam giác có thể được phân loại dựa trên độ dài của các cạnh của nó. Tất cả ba cạnh của một tam giác đều có cùng độ dài. Một tam giác cân có hai cạnh có cùng độ dài và một cạnh thứ ba có độ dài khác nhau,... Viết chương trình đọc độ dài ba cạnh của một tam giác từ người dùng. Sau đó hiển thị một thông báo cho biết loại tam giác.\\n'"
      ]
     },
     "execution_count": 29,
     "metadata": {},
     "output_type": "execute_result"
    }
   ],
   "source": [
    "\"\"\"\n",
    "Bài 29: Một hình tam giác có thể được phân loại dựa trên độ dài của các cạnh của nó. Tất cả ba cạnh của một tam giác đều có cùng độ dài. Một tam giác cân có hai cạnh có cùng độ dài và một cạnh thứ ba có độ dài khác nhau,... Viết chương trình đọc độ dài ba cạnh của một tam giác từ người dùng. Sau đó hiển thị một thông báo cho biết loại tam giác.\n",
    "\"\"\""
   ]
  },
  {
   "cell_type": "code",
   "execution_count": 35,
   "id": "6ef9480f-5df7-455b-bb66-396b35a884d9",
   "metadata": {},
   "outputs": [
    {
     "name": "stdin",
     "output_type": "stream",
     "text": [
      "Nhập độ dài 3 cạnh tam giác(các cạnh cách nhau 1 khoảng trắng) 6 7 8\n"
     ]
    },
    {
     "name": "stdout",
     "output_type": "stream",
     "text": [
      "Đây là tam giác thường\n"
     ]
    }
   ],
   "source": [
    "a,b,c = map(float,(input(\"Nhập độ dài 3 cạnh tam giác(các cạnh cách nhau 1 khoảng trắng)\").split()))\n",
    "if a + b > c and a + c > b and b + c > a:\n",
    "    if a == b and b == c : \n",
    "        print (f\"Tam giác có 3 cạnh đều bằng {a} là tam giác đều\")\n",
    "    elif a == b or b == c or a == c:\n",
    "        print (\"Đây là tam giác cân\")\n",
    "    else:\n",
    "        print(\"Đây là tam giác thường\")\n",
    "else:\n",
    "    print(\"Ba cạnh này không tạo thành được tam giác\")"
   ]
  },
  {
   "cell_type": "code",
   "execution_count": 30,
   "id": "95696d95-3683-4d9d-bf21-00cf24f9d0c9",
   "metadata": {},
   "outputs": [
    {
     "data": {
      "text/plain": [
       "'\\nBài 30: Hầu hết các năm có 365 ngày. Tuy nhiên, thời gian cần thiết để Trái đất quay quanh Mặt trời thực sự nhiều hơn thế một chút. Do đó, thêm một ngày, ngày 29 tháng 2, được đưa vào một số năm để khắc phục sự khác biệt này. Những năm như vậy được gọi là năm nhuận. Các quy tắc để xác định xem một năm có phải là năm nhuận hay không:\\nBất kỳ năm nào chia hết cho 400 là một năm nhuận.\\nTrong số các năm còn lại, bất kỳ năm nào chia hết cho 100 không phải là năm nhuận.\\nTrong số các năm còn lại, bất kỳ năm nào chia hết cho 4 là một năm nhuận.\\nTất cả các năm khác không phải là năm nhuận.\\nViết chương trình đọc một năm từ người dùng và hiển thị thông báo cho biết đó có phải là năm nhuận hay không\\n'"
      ]
     },
     "execution_count": 30,
     "metadata": {},
     "output_type": "execute_result"
    }
   ],
   "source": [
    "\"\"\"\n",
    "Bài 30: Hầu hết các năm có 365 ngày. Tuy nhiên, thời gian cần thiết để Trái đất quay quanh Mặt trời thực sự nhiều hơn thế một chút. Do đó, thêm một ngày, ngày 29 tháng 2, được đưa vào một số năm để khắc phục sự khác biệt này. Những năm như vậy được gọi là năm nhuận. Các quy tắc để xác định xem một năm có phải là năm nhuận hay không:\n",
    "Bất kỳ năm nào chia hết cho 400 là một năm nhuận.\n",
    "Trong số các năm còn lại, bất kỳ năm nào chia hết cho 100 không phải là năm nhuận.\n",
    "Trong số các năm còn lại, bất kỳ năm nào chia hết cho 4 là một năm nhuận.\n",
    "Tất cả các năm khác không phải là năm nhuận.\n",
    "Viết chương trình đọc một năm từ người dùng và hiển thị thông báo cho biết đó có phải là năm nhuận hay không\n",
    "\"\"\""
   ]
  },
  {
   "cell_type": "code",
   "execution_count": 36,
   "id": "32263f7c-19fb-4767-87e1-77893e2716ac",
   "metadata": {},
   "outputs": [
    {
     "name": "stdin",
     "output_type": "stream",
     "text": [
      "Nhập năm cần kiểm tra năm nhuận hay không (lớn hơn 0):  2000\n"
     ]
    },
    {
     "name": "stdout",
     "output_type": "stream",
     "text": [
      "Năm 2000 là năm nhuận.\n"
     ]
    }
   ],
   "source": [
    "nam = int(input(\"Nhập năm cần kiểm tra năm nhuận hay không (lớn hơn 0): \"))\n",
    "if nam <= 0:\n",
    "    print(\"Vui lòng nhập năm lớn hơn 0\")\n",
    "else:\n",
    "    if nam % 400 == 0:\n",
    "        print(f\"Năm {nam} là năm nhuận.\")\n",
    "    elif nam % 100 == 0:\n",
    "        print(f\"Năm {nam} không phải là năm nhuận.\")\n",
    "    elif nam % 4 == 0:\n",
    "        print(f\"Năm {nam} là năm nhuận.\")\n",
    "    else:\n",
    "        print(f\"Năm {nam} không phải là năm nhuận.\")"
   ]
  },
  {
   "cell_type": "code",
   "execution_count": 37,
   "id": "3f940df8-c5ba-47b1-84ba-d78dc2d6011f",
   "metadata": {},
   "outputs": [
    {
     "data": {
      "text/plain": [
       "'\\nBài 31: Một trong những ví dụ đầu tiên về mã hóa được Julius Caesar sử dụng. Ý tưởng mật mã này rất đơn giản: Mỗi chữ cái trong tin nhắn gốc được dịch chuyển 3 vị trí, tức là A chuyển thành D, B chuyển thành E, C chuyển thành F, D chuyển thành G, v.v. Tương tự, 03 chữ cái cuối cùng trong bảng chữ cái được thay thế: X chuyển thành A, Y chuyển thành B và Z chuyển thành C. Các ký tự không phải chữ cái thì giữ nguyên.\\nViết chương trình thực hiện mật mã Caesar, cho phép người dùng nhập vào một tin nhắn và sau đó hiển thị tin nhắn đã được mã hóa. Đảm bảo rằng chương trình mã hóa cả chữ hoa và chữ thường. \\n\\n'"
      ]
     },
     "execution_count": 37,
     "metadata": {},
     "output_type": "execute_result"
    }
   ],
   "source": [
    "\"\"\"\n",
    "Bài 31: Một trong những ví dụ đầu tiên về mã hóa được Julius Caesar sử dụng. Ý tưởng mật mã này rất đơn giản: Mỗi chữ cái trong tin nhắn gốc được dịch chuyển 3 vị trí, tức là A chuyển thành D, B chuyển thành E, C chuyển thành F, D chuyển thành G, v.v. Tương tự, 03 chữ cái cuối cùng trong bảng chữ cái được thay thế: X chuyển thành A, Y chuyển thành B và Z chuyển thành C. Các ký tự không phải chữ cái thì giữ nguyên.\n",
    "Viết chương trình thực hiện mật mã Caesar, cho phép người dùng nhập vào một tin nhắn và sau đó hiển thị tin nhắn đã được mã hóa. Đảm bảo rằng chương trình mã hóa cả chữ hoa và chữ thường. \n",
    "\n",
    "\"\"\""
   ]
  },
  {
   "cell_type": "code",
   "execution_count": 46,
   "id": "b6b3033f-d162-4b3c-bca8-78585f71a1e9",
   "metadata": {},
   "outputs": [
    {
     "name": "stdin",
     "output_type": "stream",
     "text": [
      "Nhập thông điệp cần mã hóa:  xyz ABC\n"
     ]
    },
    {
     "name": "stdout",
     "output_type": "stream",
     "text": [
      "abc DEF\n"
     ]
    }
   ],
   "source": [
    "message = input(\"Nhập thông điệp cần mã hóa: \")\n",
    "result = \"\"\n",
    "for ch in message:\n",
    "    if ch.isalpha():\n",
    "        if ch.isupper():\n",
    "            base = ord(\"A\")\n",
    "        else: base = ord(\"a\")    \n",
    "        new_ch = chr((ord(ch) - base + 3) % 26 + base)\n",
    "        result+=new_ch\n",
    "    else:\n",
    "        result+=ch\n",
    "print(result)"
   ]
  },
  {
   "cell_type": "code",
   "execution_count": null,
   "id": "33ae2ecf-428a-4b96-a106-c90d60004508",
   "metadata": {},
   "outputs": [],
   "source": [
    "\"\"\"\n",
    "Bài 32: Mở rộng viết chương trình mã hóa mã Caesar, cho phép người dùng cung cấp tin nhắn và sau đó hiển thị tin nhắn đã được mã hóa. Chương trình cũng hỗ trợ giải mã (chuyển ngược lại) để có thể sử dụng cả hai chức năng: mã hóa tin nhắn và giải mã tin nhắn. Và số ký tự dịch chuyển do người dùng nhập.\n",
    "\n",
    "\"\"\""
   ]
  },
  {
   "cell_type": "code",
   "execution_count": 51,
   "id": "8bf9be43-a501-410f-a370-bc737ba46939",
   "metadata": {},
   "outputs": [
    {
     "name": "stdin",
     "output_type": "stream",
     "text": [
      "Bạn có muốn mã hóa tin nhắn (m) hay giải mã tin nhắn (g)?  g\n",
      "Nhập tin nhắn đã bị mã hóa:  Lippsasvph\n",
      "Nhập số ký tự dịch chuyển:  4\n"
     ]
    },
    {
     "name": "stdout",
     "output_type": "stream",
     "text": [
      "Kết quả sau khi giải mã: Helloworld\n"
     ]
    }
   ],
   "source": [
    "c = input(\"Bạn có muốn mã hóa tin nhắn (m) hay giải mã tin nhắn (g)? \").lower().strip()\n",
    "\n",
    "while c not in (\"m\", \"g\"):\n",
    "    c = input(\"Vui lòng nhập 'm' (mã hóa) hoặc 'g' (giải mã): \").lower().strip()\n",
    "\n",
    "if c == \"m\":\n",
    "    message = input(\"Nhập thông điệp cần mã hóa: \").strip()\n",
    "    encrypt_me = \"\"\n",
    "    s = int(input(\"Nhập số ký tự dịch chuyển: \"))\n",
    "\n",
    "    for ch in message:\n",
    "        if ch.isalpha():\n",
    "            base = ord('A') if ch.isupper() else ord('a')\n",
    "            new_ch = chr((ord(ch) - base + s) % 26 + base)\n",
    "            encrypt_me += new_ch\n",
    "        else:\n",
    "            encrypt_me += ch\n",
    "\n",
    "    print(\"Kết quả sau khi mã hóa:\", encrypt_me)\n",
    "\n",
    "else:\n",
    "    message_en = input(\"Nhập tin nhắn đã bị mã hóa: \").strip()\n",
    "    decrypt_me = \"\"\n",
    "    s = int(input(\"Nhập số ký tự dịch chuyển: \"))\n",
    "\n",
    "    for ch in message_en:\n",
    "        if ch.isalpha():\n",
    "            base = ord('A') if ch.isupper() else ord('a')\n",
    "            new_ch = chr((ord(ch) - base - s) % 26 + base)\n",
    "            decrypt_me += new_ch\n",
    "        else:\n",
    "            decrypt_me += ch\n",
    "\n",
    "    print(\"Kết quả sau khi giải mã:\", decrypt_me)\n"
   ]
  },
  {
   "cell_type": "code",
   "execution_count": 1,
   "id": "45fe783a-12c8-4cdd-afcf-7c7b3585beed",
   "metadata": {},
   "outputs": [
    {
     "data": {
      "text/plain": [
       "'\\nBài 33: Kiểm tra một chuỗi có phải là Palindrom không? \\nGợi ý: Một chuỗi là một palindrom nếu nó chứa 2 chuỗi con đối xứng giống nhau. Ví dụ: “anna”, “civic”, “level” và “hannah” \\nViết chương trình đọc một chuỗi từ người dùng và sử dụng một vòng lặp để xác định xem đó có phải là một Palindrom hay không. Hiển thị kết quả, bao gồm một thông báo đầu ra có ý nghĩa.\\n'"
      ]
     },
     "execution_count": 1,
     "metadata": {},
     "output_type": "execute_result"
    }
   ],
   "source": [
    "\"\"\"\n",
    "Bài 33: Kiểm tra một chuỗi có phải là Palindrom không? \n",
    "Gợi ý: Một chuỗi là một palindrom nếu nó chứa 2 chuỗi con đối xứng giống nhau. Ví dụ: “anna”, “civic”, “level” và “hannah” \n",
    "Viết chương trình đọc một chuỗi từ người dùng và sử dụng một vòng lặp để xác định xem đó có phải là một Palindrom hay không. Hiển thị kết quả, bao gồm một thông báo đầu ra có ý nghĩa.\n",
    "\"\"\""
   ]
  },
  {
   "cell_type": "code",
   "execution_count": 7,
   "id": "9bf16bda-ebf8-41f8-a871-ad2ca6dd4d04",
   "metadata": {},
   "outputs": [
    {
     "name": "stdin",
     "output_type": "stream",
     "text": [
      "Nhập chuỗi:  anna\n"
     ]
    },
    {
     "name": "stdout",
     "output_type": "stream",
     "text": [
      "Chuỗi là Palindrom\n"
     ]
    }
   ],
   "source": [
    "st = input(\"Nhập chuỗi: \")\n",
    "def is_palindrome(s):\n",
    "    n = len(s)\n",
    "    return all(s[i] == s[n - 1 - i] for i in range(n // 2))\n",
    "\n",
    "if is_palindrome(st):\n",
    "    print(\"Chuỗi là Palindrom\")\n",
    "else:\n",
    "    print(\"Chuỗi không phải là Palindrom\")\n",
    "\n"
   ]
  },
  {
   "cell_type": "code",
   "execution_count": null,
   "id": "17dd0bfd-0985-4f56-a9f9-261a38bd708e",
   "metadata": {},
   "outputs": [],
   "source": [
    "\"\"\"Bài 34: Viết chương trình chuyển đổi số thập phân thành nhị phân. Đọc số thập phân từ người dùng dưới dạng số nguyên. Hiển thị kết quả, cùng với một thông điệp thích hợp.\n",
    "\"\"\""
   ]
  },
  {
   "cell_type": "code",
   "execution_count": 9,
   "id": "1f524d6a-d3bb-4af8-bf9d-c81e8f68e8b7",
   "metadata": {},
   "outputs": [
    {
     "name": "stdin",
     "output_type": "stream",
     "text": [
      "Nhập số thập phân cần chuyển: 13\n"
     ]
    },
    {
     "name": "stdout",
     "output_type": "stream",
     "text": [
      "Nhị phân của số 13 là: 1101\n"
     ]
    }
   ],
   "source": [
    "n = int(input(\"Nhập số thập phân cần chuyển:\"))\n",
    "m = n\n",
    "binary = \"\"\n",
    "if n == 0:\n",
    "    binary = \"0\"\n",
    "else:\n",
    "    while m > 0:\n",
    "        j = m % 2\n",
    "        binary=str(j) + binary\n",
    "        m //= 2\n",
    "print(f\"Nhị phân của số {n} là: {binary}\")"
   ]
  },
  {
   "cell_type": "code",
   "execution_count": null,
   "id": "49efd35c-1565-449b-a9eb-cf36af3251e3",
   "metadata": {},
   "outputs": [],
   "source": [
    "\"\"\"\n",
    "Bài 35: Viết một chương trình tạo ra một danh sách các số lẻ từ các số được người dùng nhập vào. Giả sử đầu vào là: 1,2,3,4,5,6,7,8,9 thì đầu ra phải là: 1,3,5,7,9\n",
    "\"\"\""
   ]
  },
  {
   "cell_type": "code",
   "execution_count": 16,
   "id": "553ccbff-9b46-4689-81d8-65feb16d4780",
   "metadata": {},
   "outputs": [
    {
     "name": "stdin",
     "output_type": "stream",
     "text": [
      "Nhập danh sách các số (cách nhau bằng dấu phẩy):  1,2,3,4,5,6,7\n"
     ]
    },
    {
     "name": "stdout",
     "output_type": "stream",
     "text": [
      "Danh sách các số lẻ là: 1,3,5,7\n"
     ]
    }
   ],
   "source": [
    "n = input(\"Nhập danh sách các số (cách nhau bằng dấu phẩy): \")\n",
    "\n",
    "ds = n.split(\",\")\n",
    "\n",
    "ds_le = []\n",
    "\n",
    "for i in ds:\n",
    "    if int(i) % 2 != 0:   \n",
    "        ds_le.append(i)\n",
    "\n",
    "print(\"Danh sách các số lẻ là:\", \",\".join(ds_le))\n"
   ]
  },
  {
   "cell_type": "code",
   "execution_count": null,
   "id": "bcf05ca7-6180-4e6c-a8e2-5ce6de9225ad",
   "metadata": {},
   "outputs": [],
   "source": [
    "\"\"\"\n",
    "Bài 36: Viết chương trình đọc các số nguyên từ người dùng và lưu trữ chúng trong danh sách. \n",
    "Chương trình sẽ tiếp tục đọc các giá trị cho đến khi người dùng nhập ký tự 0. \n",
    "Sau đó, nó sẽ hiển thị tất cả các giá trị được nhập bởi người dùng (ngoại trừ 0) theo thứ tự tăng dần, với một giá trị xuất hiện trên mỗi dòng. \n",
    "Sử dụng phương thức sắp xếp hoặc hàm được sắp xếp để sắp xếp danh sách.\n",
    "\"\"\""
   ]
  },
  {
   "cell_type": "code",
   "execution_count": 20,
   "id": "22fad301-a962-4aff-a736-2696a6b5f736",
   "metadata": {},
   "outputs": [
    {
     "name": "stdin",
     "output_type": "stream",
     "text": [
      "Nhập số nguyên ( nhấn 0 để dừng):  54\n",
      "Nhập số nguyên ( nhấn 0 để dừng):  543\n",
      "Nhập số nguyên ( nhấn 0 để dừng):  633\n",
      "Nhập số nguyên ( nhấn 0 để dừng):  4646\n",
      "Nhập số nguyên ( nhấn 0 để dừng):  754\n",
      "Nhập số nguyên ( nhấn 0 để dừng):  -43\n",
      "Nhập số nguyên ( nhấn 0 để dừng):  5\n",
      "Nhập số nguyên ( nhấn 0 để dừng):  64\n",
      "Nhập số nguyên ( nhấn 0 để dừng):  0\n"
     ]
    },
    {
     "name": "stdout",
     "output_type": "stream",
     "text": [
      "Tất cả các giá trị đã nhập sau khi sắp xếp là:\n",
      "-43\n",
      "5\n",
      "54\n",
      "64\n",
      "543\n",
      "633\n",
      "754\n",
      "4646\n"
     ]
    }
   ],
   "source": [
    "ds = []\n",
    "while True:\n",
    "    n = int(input(\"Nhập số nguyên ( nhấn 0 để dừng): \"))\n",
    "    if n == 0:\n",
    "        break\n",
    "    ds.append(n)\n",
    "ds.sort()\n",
    "\n",
    "print(\"Tất cả các giá trị đã nhập sau khi sắp xếp là:\")\n",
    "for i in ds:\n",
    "    print(i)"
   ]
  },
  {
   "cell_type": "code",
   "execution_count": 21,
   "id": "fd72169f-2fa1-40ff-b6a7-3b4c214f40fb",
   "metadata": {},
   "outputs": [
    {
     "data": {
      "text/plain": [
       "'\\nBài 37: Tạo một chương trình đọc các từ của người dùng cho đến khi người dùng nhập vào một dòng trống. \\nSau khi người dùng nhập vào một dòng trống, chương trình sẽ hiển thị từng từ do người dùng nhập sau khi loại bỏ từ bị trùng. \\nCác từ phải được hiển thị theo thứ tự mà chúng được nhập vào. \\nVí dụ: nếu người dùng nhập:\\nfirst\\nsecond\\nfirst\\nthird\\nsecond\\nSau đó chương trình sẽ hiển thị:\\nfirst \\nsecond \\nthird\\n'"
      ]
     },
     "execution_count": 21,
     "metadata": {},
     "output_type": "execute_result"
    }
   ],
   "source": [
    "\"\"\"\n",
    "Bài 37: Tạo một chương trình đọc các từ của người dùng cho đến khi người dùng nhập vào một dòng trống. \n",
    "Sau khi người dùng nhập vào một dòng trống, chương trình sẽ hiển thị từng từ do người dùng nhập sau khi loại bỏ từ bị trùng. \n",
    "Các từ phải được hiển thị theo thứ tự mà chúng được nhập vào. \n",
    "Ví dụ: nếu người dùng nhập:\n",
    "first\n",
    "second\n",
    "first\n",
    "third\n",
    "second\n",
    "Sau đó chương trình sẽ hiển thị:\n",
    "first \n",
    "second \n",
    "third\n",
    "\"\"\""
   ]
  },
  {
   "cell_type": "code",
   "execution_count": 26,
   "id": "d22e6daa-c875-42d2-8bd7-6067a29b709e",
   "metadata": {},
   "outputs": [
    {
     "name": "stdin",
     "output_type": "stream",
     "text": [
      "Nhập từ (Enter để dừng):  lan\n",
      "Nhập từ (Enter để dừng):  mai\n",
      "Nhập từ (Enter để dừng):  cuc\n",
      "Nhập từ (Enter để dừng):  truc\n",
      "Nhập từ (Enter để dừng):  lan\n",
      "Nhập từ (Enter để dừng):  cuc\n",
      "Nhập từ (Enter để dừng):  truc\n",
      "Nhập từ (Enter để dừng):  \n"
     ]
    },
    {
     "name": "stdout",
     "output_type": "stream",
     "text": [
      "\n",
      "Các chuỗi không trùng là:\n",
      "lan\n",
      "mai\n",
      "cuc\n",
      "truc\n"
     ]
    }
   ],
   "source": [
    "list_words = []\n",
    "while True:\n",
    "    word = input(\"Nhập từ (Enter để dừng): \").strip()    \n",
    "    if word == \"\":\n",
    "        break\n",
    "    if word not in list_words:\n",
    "        list_words.append(word)\n",
    "print(\"\\nCác chuỗi không trùng là:\")\n",
    "for i in list_words:\n",
    "    print(i)    "
   ]
  },
  {
   "cell_type": "code",
   "execution_count": null,
   "id": "7955609c-b70c-4fd4-bce1-e374cab670ee",
   "metadata": {},
   "outputs": [],
   "source": [
    "\"\"\"\n",
    "Bài 38: Tạo một chương trình đọc số nguyên từ người dùng cho đến khi một dòng trống được nhập.\n",
    "Khi tất cả các số nguyên đã được đọc, chương trình sẽ hiển thị theo quy tắc: \n",
    "tất cả các số âm, theo sau là tất cả các số không, theo sau là tất cả các số dương. \n",
    "Trong mỗi nhóm, các số phải được hiển thị theo cùng thứ tự mà người dùng đã nhập. \n",
    "Ví dụ: nếu người dùng nhập các giá trị: 3, -4, 1, 0, -1, 0 và -2 \n",
    "Thì chương trình sẽ xuất các giá trị: -4, -1, -2, 0, 0, 3 và 1.\n",
    "\n",
    "\"\"\""
   ]
  },
  {
   "cell_type": "code",
   "execution_count": 32,
   "id": "bfd310e7-31bb-4c84-9eb2-b6c135e9dece",
   "metadata": {},
   "outputs": [
    {
     "name": "stdin",
     "output_type": "stream",
     "text": [
      "Hãy nhập số nguyên(nhấn Enter để dừng):  -4\n",
      "Hãy nhập số nguyên(nhấn Enter để dừng):  -2\n",
      "Hãy nhập số nguyên(nhấn Enter để dừng):  -1\n",
      "Hãy nhập số nguyên(nhấn Enter để dừng):  0\n",
      "Hãy nhập số nguyên(nhấn Enter để dừng):  0\n",
      "Hãy nhập số nguyên(nhấn Enter để dừng):  0\n",
      "Hãy nhập số nguyên(nhấn Enter để dừng):  5\n",
      "Hãy nhập số nguyên(nhấn Enter để dừng):  3\n",
      "Hãy nhập số nguyên(nhấn Enter để dừng):  2\n",
      "Hãy nhập số nguyên(nhấn Enter để dừng):  6\n",
      "Hãy nhập số nguyên(nhấn Enter để dừng):  \n"
     ]
    },
    {
     "name": "stdout",
     "output_type": "stream",
     "text": [
      "Sau khi xử lí:  -4, -2, -1, 0, 0, 0, 5, 3, 2, 6\n"
     ]
    }
   ],
   "source": [
    "am = []\n",
    "khong = []\n",
    "duong = []\n",
    "while True:\n",
    "    n = input(\"Hãy nhập số nguyên(nhấn Enter để dừng): \")\n",
    "    if n == \"\":\n",
    "        break\n",
    "    n = int(n)\n",
    "    if n < 0:\n",
    "        am.append(n)\n",
    "    elif n > 0:\n",
    "        duong.append(n)\n",
    "    else:\n",
    "        khong.append(n)\n",
    "ket_qua = am + khong + duong\n",
    "print(\"Sau khi xử lí: \", \", \".join(str(i) for i in ket_qua))"
   ]
  },
  {
   "cell_type": "code",
   "execution_count": null,
   "id": "6fe8ad5e-440f-43c4-b4d4-77c1729245d3",
   "metadata": {},
   "outputs": [],
   "source": [
    "\"\"\"\n",
    "Bài 39: Với số nguyên n nhất định, hãy viết chương trình tạo ra một dictionary chứa (i, i*i) với i là số nguyên từ 1 đến n (bao gồm cả 1 và n) sau đó in ra dictionary này. Ví dụ: Giả sử số n là 8 thì đầu ra sẽ là: {1: 1, 2: 4, 3: 9, 4: 16, 5: 25, 6: 36, 7: 49, 8: 64}.\n",
    "\"\"\""
   ]
  },
  {
   "cell_type": "code",
   "execution_count": 35,
   "id": "cb290f9a-8db2-4bc6-a057-589e50d321ab",
   "metadata": {},
   "outputs": [
    {
     "name": "stdin",
     "output_type": "stream",
     "text": [
      "Nhập số nguyên n:  4\n"
     ]
    },
    {
     "name": "stdout",
     "output_type": "stream",
     "text": [
      "{1: 1, 2: 4, 3: 9, 4: 16}\n"
     ]
    }
   ],
   "source": [
    "n = int(input(\"Nhập số nguyên n: \"))\n",
    "dic = dict()\n",
    "for i in range(1, n+1):\n",
    "    dic[i] = i*i\n",
    "print(dic)"
   ]
  },
  {
   "cell_type": "code",
   "execution_count": null,
   "id": "3a0209f6-9365-4070-965d-9d43265b2480",
   "metadata": {},
   "outputs": [],
   "source": [
    "\"\"\"\n",
    "Bài 40: Với tuple (1,2,3,4,5,6,7,8,9,10) cho trước, viết một chương trình in một nửa phần tử đầu tiên trong 1 dòng và 1 nửa phần tử còn lại trong 1 dòng\n",
    "\"\"\""
   ]
  },
  {
   "cell_type": "code",
   "execution_count": 37,
   "id": "dfb1e71f-1cad-4a30-9dfa-9932f632164a",
   "metadata": {},
   "outputs": [
    {
     "name": "stdout",
     "output_type": "stream",
     "text": [
      "Nửa đầu:  (1, 2, 3, 4, 5)\n",
      "Nửa sau:  (6, 7, 8, 9, 10)\n"
     ]
    }
   ],
   "source": [
    "tup = (1,2,3,4,5,6,7,8,9,10)\n",
    "n = len(tup) // 2\n",
    "print(\"Nửa đầu: \", tup[:n])\n",
    "print(\"Nửa sau: \", tup[n:])"
   ]
  },
  {
   "cell_type": "code",
   "execution_count": null,
   "id": "8f156f10-78ed-46f4-ac92-9c0d0bedd70c",
   "metadata": {},
   "outputs": [],
   "source": [
    "\"\"\"\n",
    "Bài 41: Viết một chương trình để tạo tuple chứa các phần tử là số chẵn từ một tuple (1,2,3,4,5,6,7,8,9,10) cho trước. \n",
    "\n",
    "\"\"\""
   ]
  },
  {
   "cell_type": "code",
   "execution_count": 41,
   "id": "fee54936-2e27-4699-8ebf-8462b9403443",
   "metadata": {},
   "outputs": [
    {
     "name": "stdout",
     "output_type": "stream",
     "text": [
      "(2, 4, 6, 8, 10)\n",
      "(2, 4, 6, 8, 10)\n"
     ]
    }
   ],
   "source": [
    "tup = (1,2,3,4,5,6,7,8,9,10)\n",
    "li = []\n",
    "for i in tup:\n",
    "    if i % 2 == 0:\n",
    "        li.append(i)\n",
    "tup2 = tuple(li)\n",
    "print(tup2)       \n",
    "\n",
    "tup2 = tuple(i for i in tup if i % 2 == 0)\n",
    "print(tup2)"
   ]
  },
  {
   "cell_type": "code",
   "execution_count": null,
   "id": "a589f4f8-d910-4010-aa4d-869821408243",
   "metadata": {},
   "outputs": [],
   "source": [
    "\"\"\"\n",
    "Bài 42: Viết một chương trình có thể tính giai thừa của một số cho trước. Kết quả được in thành chuỗi trên một dòng, phân tách bởi dấu phẩy. Ví dụ, số cho trước là 8 thì kết quả đầu ra phải là 40320. Yêu cầu: định nghĩa hàm tính giai thừa\n",
    "\"\"\""
   ]
  },
  {
   "cell_type": "code",
   "execution_count": 43,
   "id": "5266b4af-80ce-45b1-84c5-9905a5eb2d67",
   "metadata": {},
   "outputs": [
    {
     "name": "stdin",
     "output_type": "stream",
     "text": [
      "Nhập số nguyên:  5\n"
     ]
    },
    {
     "name": "stdout",
     "output_type": "stream",
     "text": [
      "Giai thừa của 5 là 120\n"
     ]
    }
   ],
   "source": [
    "def giaithua(n):\n",
    "    if n == 0 or n == 1:\n",
    "        return 1\n",
    "    else:\n",
    "        return n * giaithua(n-1)\n",
    "num = int(input(\"Nhập số nguyên: \"))\n",
    "print(f\"Giai thừa của {num} là {giaithua(num)}\")\n"
   ]
  },
  {
   "cell_type": "code",
   "execution_count": null,
   "id": "0835eeef-37a3-459a-9ff1-b9f3e537b666",
   "metadata": {},
   "outputs": [],
   "source": [
    "\"\"\"\n",
    "Bài 43: Định nghĩa một hàm có đầu vào là 2 chuỗi và in chuỗi có độ dài lớn hơn. Nếu 2 chuỗi có chiều dài như nhau thì in tất cả các chuỗi theo dòng. Sử dụng hàm len() để lấy chiều dài của một chuỗi.\n",
    "\"\"\""
   ]
  },
  {
   "cell_type": "code",
   "execution_count": 46,
   "id": "0cc53943-ca75-47ab-aebe-8df0fe1c36df",
   "metadata": {},
   "outputs": [
    {
     "name": "stdin",
     "output_type": "stream",
     "text": [
      "Nhập chuỗi thứ nhất:  Good\n",
      "Nhập chuỗi thứ hai:  job\n"
     ]
    },
    {
     "name": "stdout",
     "output_type": "stream",
     "text": [
      "Good\n"
     ]
    }
   ],
   "source": [
    "def so_sanh_chuoi(s1,s2):\n",
    "    if len(s1) > len(s2):\n",
    "        print(s1)\n",
    "    elif len(s1) < len(s2):\n",
    "        print(s2)\n",
    "    else:\n",
    "        print(s1,\"\\n\",s2)\n",
    "        \n",
    "str1 = input(\"Nhập chuỗi thứ nhất: \")\n",
    "str2 = input(\"Nhập chuỗi thứ hai: \")\n",
    "so_sanh_chuoi(str1,str2)"
   ]
  },
  {
   "cell_type": "code",
   "execution_count": 47,
   "id": "376cb724-e010-4698-9cf3-98380f679c70",
   "metadata": {},
   "outputs": [
    {
     "data": {
      "text/plain": [
       "'\\nBài 44: Định nghĩa một hàm có thể tạo và in danh sách chứa các giá trị bình phương của các số từ 1 đến 20 (tính cả 1 và 20).\\xa0Yêu cầu: Sử dụng toán tử ** để lấy giá trị bình phương; Sử dụng range() cho vòng lặp; Sử dụng list.append() để thêm giá trị vào danh sách.\\n'"
      ]
     },
     "execution_count": 47,
     "metadata": {},
     "output_type": "execute_result"
    }
   ],
   "source": [
    "\"\"\"\n",
    "Bài 44: Định nghĩa một hàm có thể tạo và in danh sách chứa các giá trị bình phương của các số từ 1 đến 20 (tính cả 1 và 20). Yêu cầu: Sử dụng toán tử ** để lấy giá trị bình phương; Sử dụng range() cho vòng lặp; Sử dụng list.append() để thêm giá trị vào danh sách.\n",
    "\"\"\""
   ]
  },
  {
   "cell_type": "code",
   "execution_count": 50,
   "id": "db53fb1f-3991-442a-9fe2-634d880cbce8",
   "metadata": {},
   "outputs": [
    {
     "name": "stdout",
     "output_type": "stream",
     "text": [
      "[1, 4, 9, 16, 25, 36, 49, 64, 81, 100, 121, 144, 169, 196, 225, 256, 289, 324, 361, 400]\n"
     ]
    }
   ],
   "source": [
    "def ds_binh_phuong():\n",
    "    ds = []\n",
    "    for i in range(1,21):\n",
    "        ds.append(i**2)\n",
    "    print(ds)\n",
    "\n",
    "ds_binh_phuong()"
   ]
  },
  {
   "cell_type": "code",
   "execution_count": 51,
   "id": "6eecbbc4-89be-472e-962d-36ecde196bcd",
   "metadata": {},
   "outputs": [
    {
     "data": {
      "text/plain": [
       "'\\nBài 45: Định nghĩa một hàm có thể tạo danh sách chứa các giá trị bình phương của các số từ 1 đến 20 (bao gồm cả 1 và 20) và in 5 phần tử đầu tiên trong danh sách. Yêu cầu: Sử dụng toán tử ** để lấy giá trị bình phương; Sử dụng range() cho vòng lặp; Sử dụng list.append() để thêm phần tử vào danh sách; Sử dụng [n1:n2] để cắt danh sách.\\n'"
      ]
     },
     "execution_count": 51,
     "metadata": {},
     "output_type": "execute_result"
    }
   ],
   "source": [
    "\"\"\"\n",
    "Bài 45: Định nghĩa một hàm có thể tạo danh sách chứa các giá trị bình phương của các số từ 1 đến 20 (bao gồm cả 1 và 20) và in 5 phần tử đầu tiên trong danh sách. Yêu cầu: Sử dụng toán tử ** để lấy giá trị bình phương; Sử dụng range() cho vòng lặp; Sử dụng list.append() để thêm phần tử vào danh sách; Sử dụng [n1:n2] để cắt danh sách.\n",
    "\"\"\""
   ]
  },
  {
   "cell_type": "code",
   "execution_count": 52,
   "id": "5494bd7a-3610-4262-9065-a723482c806b",
   "metadata": {},
   "outputs": [
    {
     "name": "stdout",
     "output_type": "stream",
     "text": [
      "[1, 4, 9, 16, 25]\n"
     ]
    }
   ],
   "source": [
    "def ds_binh_phuong():\n",
    "    ds = []\n",
    "    for i in range(1,21):\n",
    "        ds.append(i**2)\n",
    "    print(ds[:5])\n",
    "\n",
    "ds_binh_phuong()"
   ]
  },
  {
   "cell_type": "code",
   "execution_count": null,
   "id": "9e057a39-f2b0-4b5a-b5c2-826818789f45",
   "metadata": {},
   "outputs": [],
   "source": [
    "\"\"\"\n",
    "Bài 46: Định nghĩa một hàm có thể tạo ra một danh sách chứa các giá trị bình phương của các số từ 1 đến 20 (bao gồm cả 1 và 20), rồi in 5 phần tử cuối cùng trong danh sách. \n",
    "\"\"\""
   ]
  },
  {
   "cell_type": "code",
   "execution_count": 53,
   "id": "74641cd8-e579-49f5-a26d-4ea77285c41c",
   "metadata": {},
   "outputs": [
    {
     "name": "stdout",
     "output_type": "stream",
     "text": [
      "[256, 289, 324, 361, 400]\n"
     ]
    }
   ],
   "source": [
    "def ds_binh_phuong():\n",
    "    ds = []\n",
    "    for i in range(1,21):\n",
    "        ds.append(i**2)\n",
    "    print(ds[-5:])\n",
    "\n",
    "ds_binh_phuong()"
   ]
  },
  {
   "cell_type": "code",
   "execution_count": null,
   "id": "a940474d-e828-4e07-b899-3a2db45a63b7",
   "metadata": {},
   "outputs": [],
   "source": [
    "\"\"\"\n",
    "Bài 47: Định nghĩa một hàm có thể tạo danh sách chứa giá trị bình phương của các số từ 1 đến 20 (bao gồm cả 1 và 20). Sau đó in tất cả các giá trị của danh sách trừ 5 phần tử đầu tiên. \n",
    "\"\"\""
   ]
  },
  {
   "cell_type": "code",
   "execution_count": 54,
   "id": "7d41e391-4fc3-459e-9a60-c6ebfb6618ef",
   "metadata": {},
   "outputs": [
    {
     "name": "stdout",
     "output_type": "stream",
     "text": [
      "[36, 49, 64, 81, 100, 121, 144, 169, 196, 225, 256, 289, 324, 361, 400]\n"
     ]
    }
   ],
   "source": [
    "def ds_binh_phuong():\n",
    "    ds = []\n",
    "    for i in range(1,21):\n",
    "        ds.append(i**2)\n",
    "    print(ds[5:])\n",
    "\n",
    "ds_binh_phuong()"
   ]
  },
  {
   "cell_type": "code",
   "execution_count": null,
   "id": "5b3b1262-76f8-4a41-920b-d299b802c676",
   "metadata": {},
   "outputs": [],
   "source": [
    "\"\"\"\n",
    "Bài 48: Viết hàm có 03 tham số và trả về giá trị trung bình của các tham số đó. Bao gồm một chương trình chính đọc ba giá trị từ người dùng và hiển thị giá trị trung bình của chúng.\n",
    "\"\"\""
   ]
  },
  {
   "cell_type": "code",
   "execution_count": 58,
   "id": "c7fbf48c-28d2-4523-bbe7-cafde4370fa5",
   "metadata": {},
   "outputs": [
    {
     "name": "stdin",
     "output_type": "stream",
     "text": [
      "Nhập số đầu tiên:  3\n",
      "Nhập số thứ hai:  6\n",
      "Nhập số thứ ba:  5\n"
     ]
    },
    {
     "name": "stdout",
     "output_type": "stream",
     "text": [
      " Giá trị trung bình của ba số 3, 6 và 5 là 4.67\n"
     ]
    }
   ],
   "source": [
    "def average(a,b,c):\n",
    "    return (a+b+c)/3\n",
    "a = int(input(\"Nhập số đầu tiên: \"))\n",
    "b = int(input(\"Nhập số thứ hai: \"))\n",
    "c = int(input(\"Nhập số thứ ba: \"))\n",
    "print(f\" Giá trị trung bình của ba số {a}, {b} và {c} là {average(a,b,c):.2f}\")"
   ]
  },
  {
   "cell_type": "code",
   "execution_count": null,
   "id": "49248c4c-95e9-49f8-ac52-c580fc0d60c2",
   "metadata": {},
   "outputs": [],
   "source": [
    "\"\"\"\n",
    "Bài 49: Số nguyên tố là một số nguyên lớn hơn 1 và chỉ chia hết cho 1 và chính nó. Viết hàm xác định tham số của nó có phải là số nguyên tố hay không, trả về True nếu đúng và False nếu không phải. Viết chương trình chính đọc số nguyên từ người dùng và hiển thị thông báo cho biết đó có phải là số nguyên tố hay không.\n",
    "\"\"\""
   ]
  },
  {
   "cell_type": "code",
   "execution_count": 60,
   "id": "1689e67d-d591-4afe-aaf7-575f9fe0337a",
   "metadata": {},
   "outputs": [
    {
     "name": "stdin",
     "output_type": "stream",
     "text": [
      "Nhập số nguyên để kiểm tra số nguyên tố:  6\n"
     ]
    },
    {
     "name": "stdout",
     "output_type": "stream",
     "text": [
      "6 không là số nguyên tố\n"
     ]
    }
   ],
   "source": [
    "def check_prime(n):\n",
    "    if n <= 1:\n",
    "        return False\n",
    "    if n == 2:\n",
    "        return True\n",
    "    if n % 2 == 0:\n",
    "        return False\n",
    "    for j in range(3, int(n**0.5) + 1, 2):\n",
    "        if n % j == 0:\n",
    "            return False\n",
    "    return True\n",
    "\n",
    "num = int(input(\"Nhập số nguyên để kiểm tra số nguyên tố: \"))     \n",
    "if check_prime(num):\n",
    "    print(f\"{num} là số nguyên tố\")\n",
    "else:\n",
    "    print(f\"{num} không là số nguyên tố\")\n"
   ]
  },
  {
   "cell_type": "code",
   "execution_count": null,
   "id": "ffde4d15-783d-4108-8851-b411be99b60e",
   "metadata": {},
   "outputs": [],
   "source": [
    "\"\"\"\n",
    "Bài 50: Viết hàm không có tham số để tạo mật khẩu ngẫu nhiên. Mật khẩu phải có độ dài ngẫu nhiên từ 7 đến 10 ký tự. Mỗi ký tự phải được chọn ngẫu nhiên từ các vị trí 33 đến 126 trong bảng ASCII. Hàm sẽ trả về mật khẩu được tạo ngẫu nhiên. Hiển thị mật khẩu được tạo ngẫu nhiên trong chương trình chính.\n",
    "\"\"\""
   ]
  },
  {
   "cell_type": "code",
   "execution_count": 65,
   "id": "decb456b-782e-433e-8fa3-51da5588bfd6",
   "metadata": {},
   "outputs": [
    {
     "name": "stdout",
     "output_type": "stream",
     "text": [
      "Mật khẩu được tạo ngẫu nhiên là: Fnty88X\n"
     ]
    }
   ],
   "source": [
    "import random\n",
    "\n",
    "def rand_pass():\n",
    "    length = random.randint(7, 10)\n",
    "    rpass = ''.join(chr(random.randint(33, 126)) for _ in range(length))\n",
    "    return rpass\n",
    "print(f\"Mật khẩu được tạo ngẫu nhiên là: {rand_pass()}\")"
   ]
  },
  {
   "cell_type": "code",
   "execution_count": 63,
   "id": "a97554d4-3966-42f9-9799-3de11c60b338",
   "metadata": {},
   "outputs": [
    {
     "data": {
      "text/plain": [
       "'\\nBài 51: Viết một hàm có một tham số password để xác định xem mật khẩu có tốt hay không. Một mật khẩu tốt là một mật khẩu dài ít nhất 8 ký tự và chứa ít nhất một chữ cái viết hoa, ít nhất một chữ cái viết thường và ít nhất một số. Hàm sẽ trả về True nếu mật khẩu là tốt, ngược thì nó sẽ trả về Fales. Chương trình có một chương trình chính đọc mật khẩu từ người dùng và hiển thị xem nó có tốt hay không.\\n'"
      ]
     },
     "execution_count": 63,
     "metadata": {},
     "output_type": "execute_result"
    }
   ],
   "source": [
    "\"\"\"\n",
    "Bài 51: Viết một hàm có một tham số password để xác định xem mật khẩu có tốt hay không. Một mật khẩu tốt là một mật khẩu dài ít nhất 8 ký tự và chứa ít nhất một chữ cái viết hoa, ít nhất một chữ cái viết thường và ít nhất một số. Hàm sẽ trả về True nếu mật khẩu là tốt, ngược thì nó sẽ trả về Fales. Chương trình có một chương trình chính đọc mật khẩu từ người dùng và hiển thị xem nó có tốt hay không.\n",
    "\"\"\""
   ]
  },
  {
   "cell_type": "code",
   "execution_count": 73,
   "id": "08515566-173d-4736-af24-30a055071699",
   "metadata": {},
   "outputs": [
    {
     "name": "stdin",
     "output_type": "stream",
     "text": [
      "Nhập mật khẩu:  abc12345\n"
     ]
    },
    {
     "name": "stdout",
     "output_type": "stream",
     "text": [
      "Mật khẩu chưa đạt yêu cầu\n"
     ]
    }
   ],
   "source": [
    "def check_pass(password):\n",
    "    has_upper = any(c.isupper() for c in password)\n",
    "    has_lower = any(c.islower() for c in password) \n",
    "    has_digit = any(c.isdigit() for c in password)\n",
    "\n",
    "    return len(password) >= 8 and has_upper and has_lower and has_digit\n",
    "\n",
    "password = input(\"Nhập mật khẩu: \")\n",
    "if check_pass(password):\n",
    "    print(\"Mật khẩu tốt\")\n",
    "else:\n",
    "    print(\"Mật khẩu chưa đạt yêu cầu\")\n"
   ]
  },
  {
   "cell_type": "code",
   "execution_count": 74,
   "id": "9b4a5b97-cf1d-4071-840c-45e4d7992b35",
   "metadata": {},
   "outputs": [
    {
     "data": {
      "text/plain": [
       "'\\nBài 52: Một số nguyên, n, được cho là hoàn hảo khi tổng của tất cả các ước số của n bằng n. Ví dụ, 28 là một số hoàn hảo vì các ước số của nó là 1, 2, 4, 7 và 14. Tổng 1 + 2 + 4 + 7 + 14 = 28. Viết hàm xác định xem số nguyên dương có hoàn hảo hay không. \\nYêu cầu: Hàm chứa một tham số, nếu tham số đó là một số hoàn hảo thì hàm sẽ trả về True. Nếu không nó sẽ trả về False. Ngoài ra, hãy viết một chương trình chính sử dụng hàm này để xác định và hiển thị tất cả các số hoàn hảo trong khoảng từ 1 đến 10.000\\n'"
      ]
     },
     "execution_count": 74,
     "metadata": {},
     "output_type": "execute_result"
    }
   ],
   "source": [
    "\"\"\"\n",
    "Bài 52: Một số nguyên, n, được cho là hoàn hảo khi tổng của tất cả các ước số của n bằng n. Ví dụ, 28 là một số hoàn hảo vì các ước số của nó là 1, 2, 4, 7 và 14. Tổng 1 + 2 + 4 + 7 + 14 = 28. Viết hàm xác định xem số nguyên dương có hoàn hảo hay không. \n",
    "Yêu cầu: Hàm chứa một tham số, nếu tham số đó là một số hoàn hảo thì hàm sẽ trả về True. Nếu không nó sẽ trả về False. Ngoài ra, hãy viết một chương trình chính sử dụng hàm này để xác định và hiển thị tất cả các số hoàn hảo trong khoảng từ 1 đến 10.000\n",
    "\"\"\""
   ]
  },
  {
   "cell_type": "code",
   "execution_count": 83,
   "id": "e91ae4ad-d89e-4afe-a995-295d8575d540",
   "metadata": {},
   "outputs": [
    {
     "name": "stdout",
     "output_type": "stream",
     "text": [
      "Các số hoàn hảo từ 1 đến 10000 là: 6, 28, 496, 8128\n"
     ]
    }
   ],
   "source": [
    "def check_perfect(num):\n",
    "    if num < 2: \n",
    "        return False\n",
    "    s = 0\n",
    "    for i in range(1,num):\n",
    "        if num % i == 0:\n",
    "            s += i\n",
    "    return s == num\n",
    "perfect_num = []\n",
    "for i in range(1,10001):\n",
    "    if check_perfect(i):\n",
    "        perfect_num.append(str(i))\n",
    "result = \", \".join(perfect_num)\n",
    "print(f\"Các số hoàn hảo từ 1 đến 10000 là: {result}\")"
   ]
  },
  {
   "cell_type": "code",
   "execution_count": null,
   "id": "4d3d48d1-8796-42aa-ac3c-0e66515d9826",
   "metadata": {},
   "outputs": [],
   "source": [
    "\"\"\"\n",
    "Bài 53: Viết một hàm trả về một danh sách chứa mọi danh sách con có thể có của danh sách. Ví dụ: danh sách con của [1, 2, 3] là [], [1], [2], [3], [1, 2], [2, 3] và [1, 2, 3].\n",
    "\"\"\""
   ]
  },
  {
   "cell_type": "code",
   "execution_count": 86,
   "id": "327a8d82-52b2-4b09-86ed-8d1b4247dd13",
   "metadata": {},
   "outputs": [
    {
     "name": "stdout",
     "output_type": "stream",
     "text": [
      "Các danh sách con là:\n",
      "[1]\n",
      "[1, 2]\n",
      "[1, 2, 3]\n",
      "[2]\n",
      "[2, 3]\n",
      "[3]\n",
      "[]\n"
     ]
    }
   ],
   "source": [
    "def all_sublist(lst):\n",
    "    result = []\n",
    "    for i in range(len(lst)):\n",
    "        for j in range(i+1, len(lst)+1):\n",
    "            result.append(lst[i:j])\n",
    "    result.append([])\n",
    "    return result\n",
    "data = [1, 2, 3]\n",
    "print(\"Các danh sách con là:\")\n",
    "for sub in all_sublist(data):\n",
    "    print(sub)"
   ]
  },
  {
   "cell_type": "code",
   "execution_count": null,
   "id": "6ae1bd58-0c00-4ed8-8d3a-15d24a21fab9",
   "metadata": {},
   "outputs": [],
   "source": [
    "\"\"\"\n",
    "Bài 54: Khi viết ra một danh sách các từ bằng tiếng Anh, người ta thường phân tách các từ bằng dấu phẩy. Ngoài ra, thêm từ “and” trước từ cuối cùng, trừ khi danh sách chỉ chứa một từ. Hãy xem xét bốn danh sách sau đây:\n",
    "\tapples \n",
    "\tapples and oranges \n",
    "\tapples, oranges and bananas \n",
    "\tapples, oranges, bananas and lemons\n",
    "Viết hàm lấy danh sách các chuỗi làm tham số của nó. Hàm sẽ trả về một chuỗi chứa tất cả các từ trong danh sách, được định dạng theo cách được mô tả như trên. Hàm hoạt động cho danh sách có độ dài bất kỳ. Code bao gồm một chương trình chính đọc một số từ do người dùng nhập vào, định dạng chúng bằng cách gọi hàm và sau đó hiển thị kết quả mà hàm trả về\n",
    "\"\"\""
   ]
  },
  {
   "cell_type": "code",
   "execution_count": 87,
   "id": "24e3f739-aa39-4a78-bec7-2686e41fdb6d",
   "metadata": {},
   "outputs": [
    {
     "name": "stdin",
     "output_type": "stream",
     "text": [
      "Nhập số lượng từ:  3\n",
      "Nhập từ thứ 1:  apple\n",
      "Nhập từ thứ 2:  orange\n",
      "Nhập từ thứ 3:  banana\n"
     ]
    },
    {
     "name": "stdout",
     "output_type": "stream",
     "text": [
      "Danh sách định dạng là: apple, orange and banana\n"
     ]
    }
   ],
   "source": [
    "def format_list(words):\n",
    "    if not words:\n",
    "        return \"\"\n",
    "    elif len(words) == 1:\n",
    "        return words[0]\n",
    "    elif len(words) == 2:\n",
    "        return f\"{words[0]} and {words[1]}\"\n",
    "    else:\n",
    "        return \", \".join(words[:-1]) + \" and \" + words[-1]\n",
    "\n",
    "words = []\n",
    "n = int(input(\"Nhập số lượng từ: \"))\n",
    "for i in range(n):\n",
    "    word = input(f\"Nhập từ thứ {i+1}: \")\n",
    "    words.append(word)\n",
    "\n",
    "formatted = format_list(words)\n",
    "print(\"Danh sách định dạng là:\", formatted)\n"
   ]
  },
  {
   "cell_type": "code",
   "execution_count": null,
   "id": "ea378d13-e080-4fcc-b877-7fcd5c4fd951",
   "metadata": {},
   "outputs": [],
   "source": [
    "\"\"\"\n",
    "Bài 55. Tệp nén là một loại lưu trữ chứa một hoặc nhiều tệp đã bị giảm kích thước. Nén tập tin trong các hệ điều hành hiện đại thường khá đơn giản. Viết chương trình nén và giải nén tệp bằng Python\n",
    "\"\"\""
   ]
  },
  {
   "cell_type": "code",
   "execution_count": null,
   "id": "d17d1185-d0ba-436e-9d2e-152e155942f0",
   "metadata": {},
   "outputs": [],
   "source": [
    "import zipfile\n",
    "\n",
    "def compress_file(input_file, output_zip):\n",
    "    with zipfile.ZipFile(output_zip, 'w') as zipf:\n",
    "        zipf.write(input_file)\n",
    "    print(f\"Đã nén {input_file} thành {output_zip}\")\n",
    "    \n",
    "def decompress_file(zip_path, extract_to='.'):\n",
    "    with zipfile.ZipFile(zip_path, 'r') as zipf:\n",
    "        zipf.extractall(extract_to)\n",
    "    print(f\"Đã giải nén {zip_path} vào thư mục {extract_to}\")\n",
    "    \n",
    "# Nén tệp\n",
    "compress_file('example.txt', 'archive.zip')\n",
    "\n",
    "# Giải nén tệp\n",
    "decompress_file('archive.zip', 'output_folder')\n"
   ]
  }
 ],
 "metadata": {
  "kernelspec": {
   "display_name": "Python 3 (ipykernel)",
   "language": "python",
   "name": "python3"
  },
  "language_info": {
   "codemirror_mode": {
    "name": "ipython",
    "version": 3
   },
   "file_extension": ".py",
   "mimetype": "text/x-python",
   "name": "python",
   "nbconvert_exporter": "python",
   "pygments_lexer": "ipython3",
   "version": "3.12.3"
  }
 },
 "nbformat": 4,
 "nbformat_minor": 5
}
