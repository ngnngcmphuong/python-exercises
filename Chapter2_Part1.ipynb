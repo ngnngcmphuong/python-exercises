{
 "cells": [
  {
   "cell_type": "code",
   "execution_count": 4,
   "id": "35935ade-a37e-4128-8499-a9f262699fb4",
   "metadata": {},
   "outputs": [
    {
     "data": {
      "text/plain": [
       "'Bài 1. Viết chương trình nhập vào một chuỗi\\nXuất ra màn hình chuỗi ký tự hoa\\nXuất ra màn hình chuỗi ký tự có ký tự đầu là ký tự hoa\\nXuất ra màn hình chuỗi ký tự thường'"
      ]
     },
     "execution_count": 4,
     "metadata": {},
     "output_type": "execute_result"
    }
   ],
   "source": [
    "\"\"\"\n",
    "Bài 1. Viết chương trình nhập vào một chuỗi\n",
    "Xuất ra màn hình chuỗi ký tự hoa\n",
    "Xuất ra màn hình chuỗi ký tự có ký tự đầu là ký tự hoa\n",
    "Xuất ra màn hình chuỗi ký tự thường\n",
    "\"\"\"\n"
   ]
  },
  {
   "cell_type": "code",
   "execution_count": null,
   "id": "9d2f01df-e2a9-4b2c-8cc6-fc4b9af2cdce",
   "metadata": {},
   "outputs": [],
   "source": [
    "st = input(\"Enter your string:\")\n",
    "st_upper = st.upper()\n",
    "st_lower = st.lower()\n",
    "st_title = st.title()\n",
    "\n",
    "print(\"A Upper String is: \" + st_upper)\n",
    "print(\"A Lower String is : \" + st_lower)\n",
    "print(\"A Title String is : \" + st_title)"
   ]
  },
  {
   "cell_type": "code",
   "execution_count": 5,
   "id": "98e97b62-9325-4274-80fe-98c384875cbc",
   "metadata": {},
   "outputs": [
    {
     "data": {
      "text/plain": [
       "'\\nBài 2. Cho chuỗi biểu diễn địa chỉ email:   \" minhnhutvh@gmail.com\" \\nRút trích và hiển thị chuỗi \"gmail.com\" (Đây chính là  tên Host)\\n'"
      ]
     },
     "execution_count": 5,
     "metadata": {},
     "output_type": "execute_result"
    }
   ],
   "source": [
    "'''\n",
    "Bài 2. Cho chuỗi biểu diễn địa chỉ email:   \" minhnhutvh@gmail.com\" \n",
    "Rút trích và hiển thị chuỗi \"gmail.com\" (Đây chính là  tên Host)\n",
    "'''"
   ]
  },
  {
   "cell_type": "code",
   "execution_count": 3,
   "id": "2208cd36-d314-4927-9fb5-55bc689b501e",
   "metadata": {},
   "outputs": [
    {
     "name": "stdout",
     "output_type": "stream",
     "text": [
      "gmail.com\n"
     ]
    }
   ],
   "source": [
    "data = \"minhnhutvh@gmail.com\"\n",
    "position = data.find(\"@\")               \n",
    "host = data[position +1 :]\n",
    "print(host)\n"
   ]
  },
  {
   "cell_type": "code",
   "execution_count": 4,
   "id": "2411f1dd-bada-4dc7-90be-d5b14be8685d",
   "metadata": {},
   "outputs": [
    {
     "data": {
      "text/plain": [
       "'\\nBài 3. Cho chuỗi biểu diễn:  \\n        ‘minhnhutvh@gmai.com Sat Jan 5 09:14:16’\\nRút trích và hiển thị chuỗi “gmail.com”\\n'"
      ]
     },
     "execution_count": 4,
     "metadata": {},
     "output_type": "execute_result"
    }
   ],
   "source": [
    "'''\n",
    "Bài 3. Cho chuỗi biểu diễn:  \n",
    "        ‘minhnhutvh@gmai.com Sat Jan 5 09:14:16’\n",
    "Rút trích và hiển thị chuỗi “gmail.com”\n",
    "'''"
   ]
  },
  {
   "cell_type": "code",
   "execution_count": 7,
   "id": "c60f43e5-e0ba-4f2f-be62-a3df3ed218a8",
   "metadata": {},
   "outputs": [
    {
     "name": "stdout",
     "output_type": "stream",
     "text": [
      "gmail.com\n"
     ]
    }
   ],
   "source": [
    "data = \"minhnhutvh@gmail.com Sat Jan 5 09:14:16\"\n",
    "Start_position = data.find(\"@\")                #  10\n",
    "End_position = data.find(\" \", Start_position)  #  26\n",
    "host = data[Start_position +1 : End_position]\n",
    "print(host)\n"
   ]
  },
  {
   "cell_type": "code",
   "execution_count": 6,
   "id": "d7e501cf-58a4-4d4d-bc28-6c8d4b93ce7a",
   "metadata": {},
   "outputs": [
    {
     "data": {
      "text/plain": [
       "'\\nBài 4. Viết một chương trình thay thế một từ trong chuỗi. Yêu cầu: \\nNhập vào một chuỗi \\nNhập vào một từ cần thay thế và một từ thay thế. \\nSau đó, hiển thị kết quả ra màn hình\\n'"
      ]
     },
     "execution_count": 6,
     "metadata": {},
     "output_type": "execute_result"
    }
   ],
   "source": [
    "\"\"\"\n",
    "Bài 4. Viết một chương trình thay thế một từ trong chuỗi. Yêu cầu: \n",
    "Nhập vào một chuỗi \n",
    "Nhập vào một từ cần thay thế và một từ thay thế. \n",
    "Sau đó, hiển thị kết quả ra màn hình\n",
    "\"\"\""
   ]
  },
  {
   "cell_type": "code",
   "execution_count": 1,
   "id": "22a0778b-1df1-4b0c-8603-435981122422",
   "metadata": {},
   "outputs": [
    {
     "name": "stdin",
     "output_type": "stream",
     "text": [
      "Enter your string:  Hello world\n",
      "Enter the word that needs to replace:  world\n",
      "Enter the word after being replaced:  phuong\n"
     ]
    },
    {
     "name": "stdout",
     "output_type": "stream",
     "text": [
      "Hello phuong\n"
     ]
    }
   ],
   "source": [
    "st1 = input(\"Enter your string: \")\n",
    "st2 = input(\"Enter the word that needs to replace: \")\n",
    "st3 = input(\"Enter the word after being replaced: \")\n",
    "\n",
    "st1 = st1.replace(st2,st3)\n",
    "print(st1) "
   ]
  },
  {
   "cell_type": "code",
   "execution_count": 7,
   "id": "4b7f0289-785e-4de1-a213-226728bd0588",
   "metadata": {},
   "outputs": [
    {
     "data": {
      "text/plain": [
       "'\\nBài 5: Viết một chương trình nhập vào 1 chuỗi. Sau đó, xuất ra màn hình: \\n5 ký tự cuối cùng; 5 ký tự đầu tiên. \\n4 chuỗi trên một dòng cách 1 khoảng trắng.\\n4 chuỗi trên 4 dòng.\\n'"
      ]
     },
     "execution_count": 7,
     "metadata": {},
     "output_type": "execute_result"
    }
   ],
   "source": [
    "\"\"\"\n",
    "Bài 5: Viết một chương trình nhập vào 1 chuỗi. Sau đó, xuất ra màn hình: \n",
    "5 ký tự cuối cùng; 5 ký tự đầu tiên. \n",
    "4 chuỗi trên một dòng cách 1 khoảng trắng.\n",
    "4 chuỗi trên 4 dòng.\n",
    "\"\"\"\n"
   ]
  },
  {
   "cell_type": "code",
   "execution_count": 8,
   "id": "e750bf24-fa0a-427a-b240-eed4f66183ff",
   "metadata": {},
   "outputs": [
    {
     "name": "stdin",
     "output_type": "stream",
     "text": [
      "Enter your string:  phuong hehee\n"
     ]
    },
    {
     "name": "stdout",
     "output_type": "stream",
     "text": [
      "First five characters are: phuon\n",
      "Last five characters are: hehee\n",
      "Four strings of one line are: phuong hehee phuong hehee phuong hehee phuong hehee \n",
      "Four strings of four line are: \n",
      "phuong hehee\n",
      "phuong hehee\n",
      "phuong hehee\n",
      "phuong hehee\n",
      "\n"
     ]
    }
   ],
   "source": [
    "st = input(\"Enter your string: \")\n",
    "print(\"First five characters are: \"+ st[:5])\n",
    "print(\"Last five characters are: \" + st[len(st)-5:])\n",
    "\n",
    "print(\"Four strings of one line are: \" + 4 * (st + \" \"))\n",
    "print(\"Four strings of four line are: \\n\" + 4 * (st + \"\\n\"))\n"
   ]
  },
  {
   "cell_type": "code",
   "execution_count": 11,
   "id": "91292b1c-52c2-4f01-915d-c6f862fb50ad",
   "metadata": {},
   "outputs": [
    {
     "data": {
      "text/plain": [
       "'\\nBài 6: Viết chương trình tính thể tích hình trụ V = πr2h với r là bán kính của mặt đáy, h là chiều cao của hình trụ, và π là hằng số pi. Với r và h nhập vào từ bàn phím.\\n'"
      ]
     },
     "execution_count": 11,
     "metadata": {},
     "output_type": "execute_result"
    }
   ],
   "source": [
    "\"\"\"\n",
    "Bài 6: Viết chương trình tính thể tích hình trụ V = πr2h với r là bán kính của mặt đáy, h là chiều cao của hình trụ, và π là hằng số pi. Với r và h nhập vào từ bàn phím.\n",
    "\"\"\""
   ]
  },
  {
   "cell_type": "code",
   "execution_count": 12,
   "id": "4575f314-3492-4945-bb6e-2f9aaa6d95c5",
   "metadata": {},
   "outputs": [
    {
     "name": "stdin",
     "output_type": "stream",
     "text": [
      "Enter r:  4\n",
      "Enter h:  5\n"
     ]
    },
    {
     "name": "stdout",
     "output_type": "stream",
     "text": [
      "The ti3ch là: 251.32741228718345\n"
     ]
    }
   ],
   "source": [
    "from math import *\n",
    "\n",
    "r = float(input(\"Enter r: \"))\n",
    "h = float(input(\"Enter h: \"))\n",
    "V = pi * r * r * h\n",
    "print(\"The tich là:\", V)\n"
   ]
  },
  {
   "cell_type": "code",
   "execution_count": null,
   "id": "8b001119-3d38-4705-8a4c-b2f39ca1b74a",
   "metadata": {},
   "outputs": [],
   "source": [
    "Bài 7: Viết chương trình tính diện tích tam giác theo công thức. Yêu cầu nhập vào 3 cạnh và các góc A,B và C (radian)\n"
   ]
  },
  {
   "cell_type": "code",
   "execution_count": 27,
   "id": "f63b6db3-dd8f-4ecd-a487-51f439a58335",
   "metadata": {},
   "outputs": [
    {
     "name": "stdin",
     "output_type": "stream",
     "text": [
      "Nhap a:  6\n",
      "Nhap b:  6\n",
      "Nhap c:  6\n",
      "Nhap goc A (radian):  1.0472\n",
      "Nhap goc B (radian):  1.0472\n",
      "Nhap goc C (radian):  1.0472\n"
     ]
    },
    {
     "name": "stdout",
     "output_type": "stream",
     "text": [
      "Dien tich tam giac: 15.588\n"
     ]
    }
   ],
   "source": [
    "from math import *\n",
    "\n",
    "a = float(input(\"Nhap a: \"))\n",
    "b = float(input(\"Nhap b: \"))\n",
    "c = float(input(\"Nhap c: \"))\n",
    "\n",
    "A = float(input(\"Nhap goc A (radian): \"))\n",
    "B = float(input(\"Nhap goc B (radian): \"))\n",
    "C = float(input(\"Nhap goc C (radian): \"))\n",
    "\n",
    "S = (a * b * sin(A)) / 2\n",
    "print(f\"Dien tich tam giac: {S:.3f}\")\n"
   ]
  },
  {
   "cell_type": "code",
   "execution_count": null,
   "id": "0eef932a-dcdf-4e53-a2d0-dc1f51584226",
   "metadata": {},
   "outputs": [],
   "source": [
    "\"\"\"\n",
    "Bài 8: Viết chương trình tính diện tích tam giác đều theo định lý Heron. Yêu cầu nhập vào cạnh tam giác đều.\n",
    "\"\"\""
   ]
  },
  {
   "cell_type": "code",
   "execution_count": 28,
   "id": "7773b57a-cb77-4694-bb70-d68b091f1ccc",
   "metadata": {},
   "outputs": [
    {
     "name": "stdin",
     "output_type": "stream",
     "text": [
      "Nhap canh a:  6\n"
     ]
    },
    {
     "name": "stdout",
     "output_type": "stream",
     "text": [
      "Diện tích tam giác đều cạnh 6.0 = 15.588\n"
     ]
    }
   ],
   "source": [
    "from math import *\n",
    "a = float(input(\"Nhap canh a: \"))\n",
    "S = (a**2 * sqrt(3))/4\n",
    "print(f\"Diện tích tam giác đều cạnh {a} = {S:.3f}\")"
   ]
  },
  {
   "cell_type": "code",
   "execution_count": null,
   "id": "116b793b-1d98-49e3-84f4-c4b48c81e88b",
   "metadata": {},
   "outputs": [],
   "source": [
    "\"\"\"\n",
    "Bài 9: Chạy chương trình Bài 7, nhập giá trị cho trường hợp tam giác đều (lưu ý: giá trị cạnh tam giác = giá trị cạnh tam giác Bài 8). Đánh giá kết quả khi chạy chương trình Bài 7 và Bài 8\n",
    "\"\"\""
   ]
  },
  {
   "cell_type": "code",
   "execution_count": null,
   "id": "1a88ea7f-45cd-4d92-af89-7d176900c0b5",
   "metadata": {},
   "outputs": [],
   "source": [
    "\"\"\"\n",
    "Kết quả ra giống nhau\n",
    "\"\"\""
   ]
  },
  {
   "cell_type": "code",
   "execution_count": 17,
   "id": "61b47964-dc0c-47b8-a5ff-a97dcab2f02c",
   "metadata": {},
   "outputs": [
    {
     "data": {
      "text/plain": [
       "'\\nBài 10: Viết chương trình yêu cầu người dùng nhập chiều rộng và chiều dài của một căn phòng. Chiều dài và chiều rộng sẽ hiển thị kiểu số dấu phẩy động. Hiển thị diện tích căn phòng. \\n'"
      ]
     },
     "execution_count": 17,
     "metadata": {},
     "output_type": "execute_result"
    }
   ],
   "source": [
    "\"\"\"\n",
    "Bài 10: Viết chương trình yêu cầu người dùng nhập chiều rộng và chiều dài của một căn phòng. Chiều dài và chiều rộng sẽ hiển thị kiểu số dấu phẩy động. Hiển thị diện tích căn phòng. \n",
    "\"\"\""
   ]
  },
  {
   "cell_type": "code",
   "execution_count": 2,
   "id": "e969ba7d-77b4-4bce-871b-cc2b0303c74d",
   "metadata": {},
   "outputs": [
    {
     "name": "stdin",
     "output_type": "stream",
     "text": [
      "Nhap chieu rong (m):  56\n",
      "Nhap chieu dai (m):  78\n"
     ]
    },
    {
     "name": "stdout",
     "output_type": "stream",
     "text": [
      "Dien tich can phong la: 4368.0 m^2\n"
     ]
    }
   ],
   "source": [
    "width = float(input(\"Nhap chieu rong (m): \"))\n",
    "length = float(input(\"Nhap chieu dai (m): \"))\n",
    "\n",
    "area = width * length\n",
    "print(\"Dien tich can phong la: \"+ str(area)+\" m^2\")"
   ]
  },
  {
   "cell_type": "code",
   "execution_count": 16,
   "id": "f7847520-f87b-4c3e-9ffa-ed0fa43b6a01",
   "metadata": {},
   "outputs": [
    {
     "data": {
      "text/plain": [
       "'\\nBài 11: Viết chương trình đọc chiều dài và chiều rộng của một cánh đồng từ người dùng. Hiển thị diện tích của cánh đồng theo theo đơn vị tính là Mẫu Anh. Gợi ý: Một Mẫu Anh bằng 43.560 met vuông.\\n'"
      ]
     },
     "execution_count": 16,
     "metadata": {},
     "output_type": "execute_result"
    }
   ],
   "source": [
    "\"\"\"\n",
    "Bài 11: Viết chương trình đọc chiều dài và chiều rộng của một cánh đồng từ người dùng. Hiển thị diện tích của cánh đồng theo theo đơn vị tính là Mẫu Anh. Gợi ý: Một Mẫu Anh bằng 43.560 met vuông.\n",
    "\"\"\""
   ]
  },
  {
   "cell_type": "code",
   "execution_count": 18,
   "id": "676792dc-16d8-44e3-94cc-294c24a129f0",
   "metadata": {},
   "outputs": [
    {
     "name": "stdin",
     "output_type": "stream",
     "text": [
      "Nhap chieu rong (m):  56\n",
      "Nhap chieu dai (m):  67\n"
     ]
    },
    {
     "name": "stdout",
     "output_type": "stream",
     "text": [
      "Dien tich can phong la: 0.09 mau anh\n"
     ]
    }
   ],
   "source": [
    "\n",
    "width = float(input(\"Nhap chieu rong (m): \"))\n",
    "length = float(input(\"Nhap chieu dai (m): \"))\n",
    "\n",
    "area = (width * length)/43560\n",
    "print(f\"Dien tich can phong la: {area:.2f} mau anh\")\n"
   ]
  },
  {
   "cell_type": "code",
   "execution_count": null,
   "id": "a48bdd4c-e462-4422-aafc-e195788412e4",
   "metadata": {},
   "outputs": [],
   "source": [
    "\"\"\"\n",
    "Bài 12: Viết chương trình nhập chi phí của một bữa ăn tại nhà hàng từ người dùng. Chương trình sẽ tính thuế và tiền boa cho bữa ăn. Trong đó, tiền boa là 18% số tiền bữa ăn (không có thuế); tiền thuế là 5% số tiền bữa ăn. Đầu ra của chương trình là tổng tiền, gồm: thuế, số tiền boa và tiền bữa ăn. Định dạng đầu ra sao cho tất cả các giá trị được hiển thị bằng hai con số thập phân\n",
    "\"\"\""
   ]
  },
  {
   "cell_type": "code",
   "execution_count": 4,
   "id": "c8b0e745-17dc-4584-87ae-da25523cb337",
   "metadata": {},
   "outputs": [
    {
     "name": "stdin",
     "output_type": "stream",
     "text": [
      "Enter cost:  456\n"
     ]
    },
    {
     "name": "stdout",
     "output_type": "stream",
     "text": [
      "Sum: 560.88\n",
      "Cost: 456.00\n",
      "Tax: 22.80\n",
      "Tip: 82.08\n"
     ]
    }
   ],
   "source": [
    "cost = float(input(\"Enter cost: \"))\n",
    "tax = 0.05 * cost\n",
    "tip = 0.18 * cost\n",
    "total = cost + tax + tip\n",
    "\n",
    "print(f\"Sum: {total:.2f}\\nCost: {cost:.2f}\\nTax: {tax:.2f}\\nTip: {tip:.2f}\")\n"
   ]
  },
  {
   "cell_type": "code",
   "execution_count": null,
   "id": "16f8b8c7-13df-4f83-b84f-14f5757949ae",
   "metadata": {},
   "outputs": [],
   "source": [
    "\"\"\"\n",
    "Bài 13: Viết chương trình đọc một số nguyên dương n từ người dùng và sau đó hiển thị tổng của tất cả các số nguyên từ 1 đến n. Tổng của n số nguyên dương đầu tiên có thể được tính bằng công thức:\n",
    "\"\"\""
   ]
  },
  {
   "cell_type": "code",
   "execution_count": 11,
   "id": "288a183b-1c36-4d14-868e-c80f79683dd1",
   "metadata": {},
   "outputs": [
    {
     "name": "stdin",
     "output_type": "stream",
     "text": [
      "Enter integer:  4\n"
     ]
    },
    {
     "name": "stdout",
     "output_type": "stream",
     "text": [
      "Sum from 1 to 4 = 10.0\n"
     ]
    }
   ],
   "source": [
    "n = int(input(\"Enter integer: \"))\n",
    "if n > 0:\n",
    "    total_1_to_n = (n*(n+1))/2\n",
    "    print(f\"Sum from 1 to {n} = {total_1_to_n}\")\n",
    "else:\n",
    "    print(\"Please enter a positive integer\")"
   ]
  },
  {
   "cell_type": "code",
   "execution_count": null,
   "id": "8b4f3ccc-fe80-4997-ab7f-acf10186dfdf",
   "metadata": {},
   "outputs": [],
   "source": [
    "\"\"\"\n",
    "Bài 14: Viết một chương trình đọc hai số nguyên a và b từ người dùng. Chương trình sẽ tính toán và hiển thị:\n",
    "Tổng của a và b\n",
    "Hiệu của a và b\n",
    "Tích của a và b\n",
    "Thương của a chia cho b\n",
    "Phần còn lại khi a được chia cho b\n",
    "Kết quả của log_10a\n",
    "Kết quả của ab\n",
    "\"\"\"\n",
    "\n",
    " \n"
   ]
  },
  {
   "cell_type": "code",
   "execution_count": 13,
   "id": "d0c95b25-797b-4417-9119-84689121f734",
   "metadata": {},
   "outputs": [
    {
     "name": "stdin",
     "output_type": "stream",
     "text": [
      "Enter a:  50\n",
      "Enter b:  2\n"
     ]
    },
    {
     "name": "stdout",
     "output_type": "stream",
     "text": [
      "a + b = 52\n",
      "a - b = 48\n",
      "a * b = 100\n",
      "a / b = 25.0\n",
      "a % b = 0\n",
      "log10(50) = 1.6989700043360187\n",
      "a ** b = 2500\n"
     ]
    }
   ],
   "source": [
    "import math\n",
    "\n",
    "a = int(input(\"Enter a: \"))\n",
    "b = int(input(\"Enter b: \"))\n",
    "\n",
    "sumab = a + b\n",
    "difab = a - b\n",
    "proab = a * b\n",
    "divab = a / b\n",
    "r = a % b\n",
    "log_10a = math.log10(a)\n",
    "po = a ** b\n",
    "\n",
    "print(f\"a + b = {sumab}\")\n",
    "print(f\"a - b = {difab}\")\n",
    "print(f\"a * b = {proab}\")\n",
    "print(f\"a / b = {divab}\")\n",
    "print(f\"a % b = {r}\")\n",
    "print(f\"log10({a}) = {log_10a}\")\n",
    "print(f\"a ** b = {po}\")"
   ]
  },
  {
   "cell_type": "code",
   "execution_count": null,
   "id": "834e97bd-0c32-428d-8c00-c6d40be24d92",
   "metadata": {},
   "outputs": [],
   "source": [
    "\"\"\"\n",
    "Bài 15: Năng lượng Q cần để thay đổi ΔT nhiệt độ (xét trường hợp ΔT > 0) của M gram nước  được tính bằng: Q = M × C × ΔT, trong đó ΔT có đơn vị là độ (độ Celsius), M có đơn vị gram và Q có đơn vị là Joules.  Viết chương trình theo yêu cầu:\n",
    "Đọc khối lượng của nước và sự thay đổi ΔT nhiệt độ từ người dùng. Chương trình sẽ hiển thị tổng năng lượng của nước khi thay đổi nhiệt độ mong muốn. \n",
    "Gợi ý: Nhiệt dung riêng của nước là 4.186 J/g◦C.\n",
    "Tính toán chi phí khi thay đổi ΔT nhiệt độ của nước, biết rằng: chi phí là 8,9 cent mỗi kilowatt giờ, 1 Joules = 2.777e-7 kWh.  Hãy tính chi phí để nước đạt nhiệt độ như yêu cầu.\n",
    "\"\"\""
   ]
  },
  {
   "cell_type": "code",
   "execution_count": 18,
   "id": "f58bc55a-5ea2-471a-9b61-ff21e694561a",
   "metadata": {},
   "outputs": [
    {
     "name": "stdin",
     "output_type": "stream",
     "text": [
      "Nhập khối lượng nước (M): 1000\n",
      "Nhập độ tăng nhiệt (ΔT): 10\n"
     ]
    },
    {
     "name": "stdout",
     "output_type": "stream",
     "text": [
      "Chi phí khi thay đổi nhiệt độ của nước: 0.103 cent\n"
     ]
    }
   ],
   "source": [
    "M = float(input(\"Nhập khối lượng nước (M):\"))\n",
    "deltaT = float(input(\"Nhập độ tăng nhiệt (ΔT):\"))\n",
    "Q = M * 4.186 * deltaT\n",
    "Q_kWh = Q * 2.777 *10**-7\n",
    "Cost = Q_kWh * 8.9\n",
    "print(f\"Chi phí khi thay đổi nhiệt độ của nước: {Cost:.3f} cent\")"
   ]
  },
  {
   "cell_type": "code",
   "execution_count": null,
   "id": "d0c4452f-e0d5-4e01-a1e7-9078fc4bacae",
   "metadata": {},
   "outputs": [],
   "source": [
    "\"\"\"\n",
    "Bài 16: Viết một chương trình xác định tốc độ di chuyển của một vật khi nó chạm đất. Người dùng sẽ nhập chiều cao mà từ đó vật đó được thả (đơn vị tính mét (m)).\n",
    "Gợi ý: Sử dụng công thức v_f =√v_i^2 + 2ad  để tính tốc độ cuối cùng, v_i tốc độ ban đầu, a là gia tốc trọng trường, và d là độ cao. Tốc độ ban đầu của một vật là 0 m/s,  gia tốc trọng trường là 9,8 m/s2.\n",
    "\"\"\""
   ]
  },
  {
   "cell_type": "code",
   "execution_count": 22,
   "id": "b1a3c914-64e0-45e1-9c69-42e444c4a7ba",
   "metadata": {},
   "outputs": [
    {
     "name": "stdin",
     "output_type": "stream",
     "text": [
      "Nhập độ cao vật đó được thả (m) 10\n"
     ]
    },
    {
     "name": "stdout",
     "output_type": "stream",
     "text": [
      "Tốc độ di chuyển của một vật khi nó chạm đất là 14.00\n"
     ]
    }
   ],
   "source": [
    "from math import *\n",
    "\n",
    "d = float(input(\"Nhập độ cao vật đó được thả (m)\"))\n",
    "v_i = 0\n",
    "a = 9.8\n",
    "v_f = sqrt(v_i ** 2 + 2 * a * d)\n",
    "print(f\"Tốc độ di chuyển của một vật khi nó chạm đất là {v_f:.2f}\" )"
   ]
  },
  {
   "cell_type": "code",
   "execution_count": null,
   "id": "5391a879-3aee-49e6-a220-7ef85cdb86bd",
   "metadata": {},
   "outputs": [],
   "source": [
    "\"\"\"\n",
    "Bài 17: Khi gió thổi trong thời tiết lạnh, làm cho không khí lạnh hơn so với thực tế. Nguyên nhân là do sự chuyển động của không khí làm tăng tốc độ làm mát cho các vật thể (chẳng hạn, như con người).\n",
    "Năm 2001, Canada, Vương quốc Anh và Hoa Kỳ đã áp dụng công thức sau đây để tính toán chỉ số gió lạnh: WCI = 13,12 + 0,6215Ta - 11,37V0.16 + 0,3965Ta V0.16\n",
    "Trong công thức Ta là nhiệt độ không khí tính bằng độ C và V là tốc độ gió tính bằng km/giờ.\n",
    "Viết chương trình đọc nhiệt độ không khí và tốc độ gió từ người dùng. Hiển thị chỉ số gió lạnh được làm tròn đến số nguyên gần nhất.\n",
    "\n",
    "\"\"\"\n",
    " \n"
   ]
  },
  {
   "cell_type": "code",
   "execution_count": 23,
   "id": "a73b4791-220b-4f96-bc7d-a5f7ead6ca75",
   "metadata": {},
   "outputs": [
    {
     "name": "stdin",
     "output_type": "stream",
     "text": [
      "Nhập nhiệt độ không khí:  -5\n",
      "Nhập tốc độ gió:  30\n"
     ]
    },
    {
     "name": "stdout",
     "output_type": "stream",
     "text": [
      "Chỉ số gió lạnh: -13\n"
     ]
    }
   ],
   "source": [
    "T_a= int(input(\"Nhập nhiệt độ không khí: \") )\n",
    "V = float(input(\"Nhập tốc độ gió: \"))\n",
    "WCI = 13.12 + 0.6215 * T_a - 11.37 * V ** 0.16 + 0.3965 * T_a * V ** 0.16\n",
    "print(f\"Chỉ số gió lạnh: {WCI:.0f}\")"
   ]
  },
  {
   "cell_type": "code",
   "execution_count": null,
   "id": "cfb52664-88d8-40ad-a5ae-111d4fc13247",
   "metadata": {},
   "outputs": [],
   "source": []
  }
 ],
 "metadata": {
  "kernelspec": {
   "display_name": "Python 3 (ipykernel)",
   "language": "python",
   "name": "python3"
  },
  "language_info": {
   "codemirror_mode": {
    "name": "ipython",
    "version": 3
   },
   "file_extension": ".py",
   "mimetype": "text/x-python",
   "name": "python",
   "nbconvert_exporter": "python",
   "pygments_lexer": "ipython3",
   "version": "3.12.3"
  }
 },
 "nbformat": 4,
 "nbformat_minor": 5
}
