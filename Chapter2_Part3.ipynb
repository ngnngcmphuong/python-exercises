{
 "cells": [
  {
   "cell_type": "code",
   "execution_count": 7,
   "id": "35935ade-a37e-4128-8499-a9f262699fb4",
   "metadata": {},
   "outputs": [
    {
     "data": {
      "text/plain": [
       "'\\nBài 1: Xử lý ngoại lệ FileNotFoundError:\\nLỗi này xuất hiện khi mở 1 file mà không tồn tại. Không tồn tại có thể do file chưa được tạo hoặc đường dẫn đến file không đúng.\\n'"
      ]
     },
     "execution_count": 7,
     "metadata": {},
     "output_type": "execute_result"
    }
   ],
   "source": [
    "\"\"\"\n",
    "Bài 1: Xử lý ngoại lệ FileNotFoundError:\n",
    "Lỗi này xuất hiện khi mở 1 file mà không tồn tại. Không tồn tại có thể do file chưa được tạo hoặc đường dẫn đến file không đúng.\n",
    "\"\"\""
   ]
  },
  {
   "cell_type": "code",
   "execution_count": 4,
   "id": "9d2f01df-e2a9-4b2c-8cc6-fc4b9af2cdce",
   "metadata": {},
   "outputs": [
    {
     "name": "stdout",
     "output_type": "stream",
     "text": [
      "File alice.txt không tồn tại\n"
     ]
    }
   ],
   "source": [
    "filename = 'alice.txt'\n",
    "try:\n",
    "    with open(filename) as f_obj:\n",
    "        contents = f_obj.read()\n",
    "except FileNotFoundError:\n",
    "    print(\"File \" + filename + \" không tồn tại\")\n",
    "    "
   ]
  },
  {
   "cell_type": "code",
   "execution_count": 5,
   "id": "98e97b62-9325-4274-80fe-98c384875cbc",
   "metadata": {},
   "outputs": [
    {
     "data": {
      "text/plain": [
       "'\\nBài 2: về xử lý ngoại lệ FileNotFoundError khi thực hiện chương trình đếm số từ trong file text\\n'"
      ]
     },
     "execution_count": 5,
     "metadata": {},
     "output_type": "execute_result"
    }
   ],
   "source": [
    "'''\n",
    "Bài 2: về xử lý ngoại lệ FileNotFoundError khi thực hiện chương trình đếm số từ trong file text\n",
    "'''"
   ]
  },
  {
   "cell_type": "code",
   "execution_count": 12,
   "id": "2208cd36-d314-4927-9fb5-55bc689b501e",
   "metadata": {},
   "outputs": [
    {
     "name": "stdout",
     "output_type": "stream",
     "text": [
      "File alice.txt không tồn tại\n"
     ]
    }
   ],
   "source": [
    "filename = 'alice.txt'\n",
    "try:\n",
    "    with open(filename) as f_obj:\n",
    "        contents = f_obj.read()\n",
    "except FileNotFoundError:\n",
    "    print(\"File \" + filename + \" không tồn tại\")\n",
    "else:\n",
    "    word = contents.split()\n",
    "    num_word = len(word)\n",
    "    print(\"File \" + filename + \" có \"+ str(num_word) + \" từ\")\n"
   ]
  },
  {
   "cell_type": "code",
   "execution_count": 9,
   "id": "2411f1dd-bada-4dc7-90be-d5b14be8685d",
   "metadata": {},
   "outputs": [
    {
     "data": {
      "text/plain": [
       "'\\nBài 3: về thực hiện chương trình đếm số từ trong nhiều file text\\n\\n'"
      ]
     },
     "execution_count": 9,
     "metadata": {},
     "output_type": "execute_result"
    }
   ],
   "source": [
    "'''\n",
    "Bài 3: về thực hiện chương trình đếm số từ trong nhiều file text\n",
    "\n",
    "'''"
   ]
  },
  {
   "cell_type": "code",
   "execution_count": 10,
   "id": "c60f43e5-e0ba-4f2f-be62-a3df3ed218a8",
   "metadata": {},
   "outputs": [
    {
     "name": "stdout",
     "output_type": "stream",
     "text": [
      "File f1.txt không tồn tại\n",
      "File f2.txt không tồn tại\n",
      "File f3.txt không tồn tại\n"
     ]
    }
   ],
   "source": [
    "def count_word(filename):\n",
    "    try:\n",
    "        with open(filename) as f_obj:\n",
    "            contents = f_obj.read()\n",
    "    except FileNotFoundError:\n",
    "        print(\"File \" + filename + \" không tồn tại\")\n",
    "    else:\n",
    "        word = contents.split()\n",
    "        num_word = len(word)\n",
    "        print(\"File \" + filename + \" có \"+ str(num_word) + \" từ\")\n",
    "filenames = [\"f1.txt\", \"f2.txt\", \"f3.txt\"]\n",
    "for filename in filenames:\n",
    "    count_word(filename)\n",
    "    "
   ]
  },
  {
   "cell_type": "code",
   "execution_count": 13,
   "id": "d7e501cf-58a4-4d4d-bc28-6c8d4b93ce7a",
   "metadata": {},
   "outputs": [
    {
     "data": {
      "text/plain": [
       "'\\nBài 4. Tệp nén là một loại lưu trữ chứa một hoặc nhiều tệp đã bị giảm kích thước. Nén tập tin trong các hệ điều hành hiện đại thường khá đơn giản. Viết chương trình nén và giải nén tệp bằng Python\\n\\n'"
      ]
     },
     "execution_count": 13,
     "metadata": {},
     "output_type": "execute_result"
    }
   ],
   "source": [
    "\"\"\"\n",
    "Bài 4. Tệp nén là một loại lưu trữ chứa một hoặc nhiều tệp đã bị giảm kích thước. Nén tập tin trong các hệ điều hành hiện đại thường khá đơn giản. Viết chương trình nén và giải nén tệp bằng Python\n",
    "\n",
    "\"\"\""
   ]
  },
  {
   "cell_type": "code",
   "execution_count": 14,
   "id": "22a0778b-1df1-4b0c-8603-435981122422",
   "metadata": {},
   "outputs": [
    {
     "name": "stdout",
     "output_type": "stream",
     "text": [
      "File f1.txt không tồn tại.\n",
      "File nén archive.zip không tồn tại.\n"
     ]
    }
   ],
   "source": [
    "import zipfile\n",
    "import os\n",
    "\n",
    "def compress_file(filename, zipname):\n",
    "    \"\"\"Nén một tệp thành tệp zip\"\"\"\n",
    "    if not os.path.exists(filename):\n",
    "        print(f\"File {filename} không tồn tại.\")\n",
    "        return\n",
    "    \n",
    "    with zipfile.ZipFile(zipname, 'w') as zipf:\n",
    "        zipf.write(filename, os.path.basename(filename))\n",
    "        print(f\"Đã nén {filename} thành {zipname}\")\n",
    "def decompress_file(zipname, extract_path=\".\"):\n",
    "    \"\"\"Giải nén tệp zip\"\"\"\n",
    "    if not os.path.exists(zipname):\n",
    "        print(f\"File nén {zipname} không tồn tại.\")\n",
    "        return\n",
    "    \n",
    "    with zipfile.ZipFile(zipname, 'r') as zipf:\n",
    "        zipf.extractall(extract_path)\n",
    "        print(f\"Đã giải nén {zipname} vào thư mục '{extract_path}'\")\n",
    "        \n",
    "compress_file(\"f1.txt\", \"archive.zip\")\n",
    "decompress_file(\"archive.zip\", \"output_folder\")\n"
   ]
  },
  {
   "cell_type": "code",
   "execution_count": null,
   "id": "cfb52664-88d8-40ad-a5ae-111d4fc13247",
   "metadata": {},
   "outputs": [],
   "source": []
  }
 ],
 "metadata": {
  "kernelspec": {
   "display_name": "Python 3 (ipykernel)",
   "language": "python",
   "name": "python3"
  },
  "language_info": {
   "codemirror_mode": {
    "name": "ipython",
    "version": 3
   },
   "file_extension": ".py",
   "mimetype": "text/x-python",
   "name": "python",
   "nbconvert_exporter": "python",
   "pygments_lexer": "ipython3",
   "version": "3.12.3"
  }
 },
 "nbformat": 4,
 "nbformat_minor": 5
}
